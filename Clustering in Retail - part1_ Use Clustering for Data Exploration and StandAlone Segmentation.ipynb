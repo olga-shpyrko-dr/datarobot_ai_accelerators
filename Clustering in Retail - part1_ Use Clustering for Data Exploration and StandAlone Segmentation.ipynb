{
	"cells": [
		{
			"id": "646738a955990427d9495e66",
			"cell_type": "markdown",
			"source": "# Introduction\n\nModeling data is often heterogeneous. Using multimodal clustering in DataRobot helps visualize the various distinctive segments in the data. The example use case in this series is about analyzing and modeling customer churn in a retail (CPG) company. In the first part of the series, you will learn how to use DataRobot clustering to segment the customer base and explore behavioural data for each segment. Code-first approach shown in this notebook helps you get from data to value even faster.\n\n## Summary\n\nThis notebook outlines how to:\n\n1. Get data from your data source (the two datasets used in this notebook are provided in the DataRobot public AWS S3 bucket)\n2. Run clustering\n3. Retrieve insights from your clustering models\n4. Deploy a chosen clustering model and test the stability of the clusters on the new period\n\n## Requirements\n\nIf you are using this notebook in DataRobot Notebooks and AWS files provided, choose the latest available environment (Python 3.9.16 as of August 1, 2023). The latest version of the datarobot python client will be provided automatically with the DataRobot notebooks (3.2 as of August 1, 2023).\nPython client version 3.x is recommended to take advantage of the newer convenience methods.",
			"metadata": {
				"collapsed": false,
				"scrolled": false,
				"datarobot": {
					"language": "markdown"
				},
				"hide_code": false,
				"hide_results": false,
				"disable_run": false,
				"chart_settings": null,
				"custom_metric_settings": null,
				"dataframe_view_options": null
			}
		},
		{
			"id": "646723667a39c8eb33fabc87",
			"cell_type": "markdown",
			"source": "## References\n\n* [DataRobot video: Overview of Multimodal Clustering feature release](https://www.youtube.com/watch?v=kz3Zt7LoN4s)\n* [DataRobot platform documentation: Unsupervised Clustering](https://docs.datarobot.com/en/docs/modeling/special-workflows/unsupervised/clustering.html)\n* [DataRobot python client documentation: API methods for Clustering](https://datarobot-public-api-client.readthedocs-hosted.com/en/latest-release/reference/modeling/spec/unsupervised_clustering.html?highlight=clustering#unsupervised-projects-clustering)\n",
			"metadata": {
				"name": "Useful references",
				"collapsed": false,
				"scrolled": false,
				"datarobot": {
					"language": "markdown"
				},
				"hide_code": false,
				"hide_results": false,
				"disable_run": false,
				"chart_settings": null,
				"custom_metric_settings": null,
				"dataframe_view_options": null
			}
		},
		{
			"id": "646738c67a39c8eb33fabcc6",
			"cell_type": "markdown",
			"source": "## Setup: import libraries and get data",
			"metadata": {
				"collapsed": false,
				"scrolled": false,
				"datarobot": {
					"language": "markdown"
				},
				"hide_code": false,
				"hide_results": false,
				"disable_run": false,
				"chart_settings": null,
				"custom_metric_settings": null,
				"dataframe_view_options": null
			}
		},
		{
			"id": "646720c255990427d9495e2e",
			"cell_type": "code",
			"source": "import datarobot as dr\nimport pandas as pd\nimport time\nfrom datarobot.enums import UnsupervisedTypeEnum\nfrom datarobot import ClusteringModel\nprint (\"DataRobot client version: \", dr.__version__)\n",
			"metadata": {
				"name": "Import libraries",
				"collapsed": false,
				"scrolled": false,
				"datarobot": {
					"language": "python"
				},
				"hide_code": false,
				"hide_results": false,
				"disable_run": false,
				"chart_settings": null,
				"custom_metric_settings": null,
				"dataframe_view_options": null
			},
			"outputs": [
				{
					"output_type": "execute_result",
					"execution_count": 1,
					"data": {
						"text/plain": "DataRobot client version:  3.2.0b1\n"
					},
					"metadata": {}
				}
			],
			"execution_count": 1
		},
		{
			"id": "646727bfd2dbcd1ef6a3a20d",
			"cell_type": "code",
			"source": "from datetime import date\ntoday = date.today()\nd1 = today.strftime(\"%Y%m%d\")",
			"metadata": {
				"name": "Get current date to label the outputs",
				"collapsed": false,
				"scrolled": false,
				"datarobot": {
					"language": "python"
				},
				"hide_code": false,
				"hide_results": false,
				"disable_run": false,
				"chart_settings": null,
				"custom_metric_settings": null,
				"dataframe_view_options": null
			},
			"outputs": [],
			"execution_count": null
		},
		{
			"id": "64c7801bc89525a9d45403cd",
			"cell_type": "markdown",
			"source": "After specifying necessary libraries, read your data into a dataframe in the notebook. In this example the data is ingested from a public AWS S3 bucket with DataRobot demo datasets. Note that DataRobot supports a variety of other methods and connectors to ingest data. See more details here:\n\n* [DataRobot UI documentation: Data Connection](https://docs.datarobot.com/en/docs/data/connect-data/index.html)",
			"metadata": {
				"collapsed": false,
				"scrolled": false,
				"datarobot": {
					"language": "markdown"
				},
				"hide_code": false,
				"hide_results": false,
				"disable_run": false,
				"chart_settings": null,
				"custom_metric_settings": null,
				"dataframe_view_options": null
			}
		},
		{
			"id": "64672059d2dbcd1ef6a3a1f2",
			"cell_type": "code",
			"source": "df = pd.read_csv('https://s3.amazonaws.com/datarobot_public_datasets/ai_accelerators/Retail_Clustering_Training_data.csv')\ndf.head()\n#df.describe()",
			"metadata": {
				"name": "Option 1: get data from AWS S3",
				"collapsed": false,
				"scrolled": false,
				"datarobot": {
					"language": "python"
				},
				"hide_code": false,
				"hide_results": false,
				"disable_run": false,
				"chart_settings": null,
				"custom_metric_settings": null,
				"dataframe_view_options": null
			},
			"outputs": [
				{
					"output_type": "execute_result",
					"execution_count": 3,
					"data": {
						"text/plain": "       ID  churn Customer_Start_Date ZipCode Residency_Category  \\\n0  243624      1          05.09.2018    2DAA      Cat3_100_500K   \n1  242193      1          18.09.2018    2AA6      Cat3_100_500K   \n2  197222      1          26.09.2018    2AA8      Cat3_100_500K   \n3  900083      1          11.10.2018    263A      Cat3_100_500K   \n4   59631      0          05.10.2018    2AA6      Cat3_100_500K   \n\n  Service_District Gender Customer_Age_Group     Brand_aware_Cat  \\\n0               AC      M              01:35               1-New   \n1               AC      F           3: 45-55  4-Know (no prompt)   \n2               AC      M                NaN  4-Know (no prompt)   \n3               AC      M                NaN               1-New   \n4               AC      M              01:35  4-Know (no prompt)   \n\n   Camp_AvgClick_LastYear  ...  LastResponse_Flag  Loyalty_YM  \\\n0                     NaN  ...                NaN  01.09.2014   \n1                     0.5  ...                0.0  01.09.2014   \n2                     NaN  ...                1.0  01.09.2014   \n3                     NaN  ...                0.0  01.10.2014   \n4                     NaN  ...                1.0  01.10.2014   \n\n  LoyaltyBonus_Redeem_LastYear  LoyaltyPurch_Cnt  MostFreq_Purch_Cat  \\\n0                          NaN               3.0                   1   \n1                          1.0               2.0                   1   \n2                          NaN               NaN                   1   \n3                          NaN               NaN                   1   \n4                          NaN               1.0                   1   \n\n   NPS_Cat_Last  NPS_Score_Avg  NPS_Score_Last  PromoCode_Cat  \\\n0           0.0          -1.00             1.0       Extra_10   \n1           NaN          -1.00             NaN       Extra_10   \n2           0.0          -1.00             1.0       Extra_10   \n3           NaN          -1.00             NaN       Extra_10   \n4           1.0           7.72             8.0       Extra_10   \n\n   Sales_Channel_Cat  \n0      Distribution2  \n1      Distribution2  \n2      Distribution2  \n3      Distribution2  \n4      Distribution2  \n\n[5 rows x 34 columns]",
						"text/html": "<div>\n<style scoped>\n    .dataframe tbody tr th:only-of-type {\n        vertical-align: middle;\n    }\n\n    .dataframe tbody tr th {\n        vertical-align: top;\n    }\n\n    .dataframe thead th {\n        text-align: right;\n    }\n</style>\n<table border=\"1\" class=\"dataframe\">\n  <thead>\n    <tr style=\"text-align: right;\">\n      <th></th>\n      <th>ID</th>\n      <th>churn</th>\n      <th>Customer_Start_Date</th>\n      <th>ZipCode</th>\n      <th>Residency_Category</th>\n      <th>Service_District</th>\n      <th>Gender</th>\n      <th>Customer_Age_Group</th>\n      <th>Brand_aware_Cat</th>\n      <th>Camp_AvgClick_LastYear</th>\n      <th>...</th>\n      <th>LastResponse_Flag</th>\n      <th>Loyalty_YM</th>\n      <th>LoyaltyBonus_Redeem_LastYear</th>\n      <th>LoyaltyPurch_Cnt</th>\n      <th>MostFreq_Purch_Cat</th>\n      <th>NPS_Cat_Last</th>\n      <th>NPS_Score_Avg</th>\n      <th>NPS_Score_Last</th>\n      <th>PromoCode_Cat</th>\n      <th>Sales_Channel_Cat</th>\n    </tr>\n  </thead>\n  <tbody>\n    <tr>\n      <th>0</th>\n      <td>243624</td>\n      <td>1</td>\n      <td>05.09.2018</td>\n      <td>2DAA</td>\n      <td>Cat3_100_500K</td>\n      <td>AC</td>\n      <td>M</td>\n      <td>01:35</td>\n      <td>1-New</td>\n      <td>NaN</td>\n      <td>...</td>\n      <td>NaN</td>\n      <td>01.09.2014</td>\n      <td>NaN</td>\n      <td>3.0</td>\n      <td>1</td>\n      <td>0.0</td>\n      <td>-1.00</td>\n      <td>1.0</td>\n      <td>Extra_10</td>\n      <td>Distribution2</td>\n    </tr>\n    <tr>\n      <th>1</th>\n      <td>242193</td>\n      <td>1</td>\n      <td>18.09.2018</td>\n      <td>2AA6</td>\n      <td>Cat3_100_500K</td>\n      <td>AC</td>\n      <td>F</td>\n      <td>3: 45-55</td>\n      <td>4-Know (no prompt)</td>\n      <td>0.5</td>\n      <td>...</td>\n      <td>0.0</td>\n      <td>01.09.2014</td>\n      <td>1.0</td>\n      <td>2.0</td>\n      <td>1</td>\n      <td>NaN</td>\n      <td>-1.00</td>\n      <td>NaN</td>\n      <td>Extra_10</td>\n      <td>Distribution2</td>\n    </tr>\n    <tr>\n      <th>2</th>\n      <td>197222</td>\n      <td>1</td>\n      <td>26.09.2018</td>\n      <td>2AA8</td>\n      <td>Cat3_100_500K</td>\n      <td>AC</td>\n      <td>M</td>\n      <td>NaN</td>\n      <td>4-Know (no prompt)</td>\n      <td>NaN</td>\n      <td>...</td>\n      <td>1.0</td>\n      <td>01.09.2014</td>\n      <td>NaN</td>\n      <td>NaN</td>\n      <td>1</td>\n      <td>0.0</td>\n      <td>-1.00</td>\n      <td>1.0</td>\n      <td>Extra_10</td>\n      <td>Distribution2</td>\n    </tr>\n    <tr>\n      <th>3</th>\n      <td>900083</td>\n      <td>1</td>\n      <td>11.10.2018</td>\n      <td>263A</td>\n      <td>Cat3_100_500K</td>\n      <td>AC</td>\n      <td>M</td>\n      <td>NaN</td>\n      <td>1-New</td>\n      <td>NaN</td>\n      <td>...</td>\n      <td>0.0</td>\n      <td>01.10.2014</td>\n      <td>NaN</td>\n      <td>NaN</td>\n      <td>1</td>\n      <td>NaN</td>\n      <td>-1.00</td>\n      <td>NaN</td>\n      <td>Extra_10</td>\n      <td>Distribution2</td>\n    </tr>\n    <tr>\n      <th>4</th>\n      <td>59631</td>\n      <td>0</td>\n      <td>05.10.2018</td>\n      <td>2AA6</td>\n      <td>Cat3_100_500K</td>\n      <td>AC</td>\n      <td>M</td>\n      <td>01:35</td>\n      <td>4-Know (no prompt)</td>\n      <td>NaN</td>\n      <td>...</td>\n      <td>1.0</td>\n      <td>01.10.2014</td>\n      <td>NaN</td>\n      <td>1.0</td>\n      <td>1</td>\n      <td>1.0</td>\n      <td>7.72</td>\n      <td>8.0</td>\n      <td>Extra_10</td>\n      <td>Distribution2</td>\n    </tr>\n  </tbody>\n</table>\n<p>5 rows × 34 columns</p>\n</div>",
						"application/vnd.dataframe+json": {
							"data": [
								{
									"_dr_df_index": 0,
									"ID": 243624,
									"churn": 1,
									"Customer_Start_Date": "05.09.2018",
									"ZipCode": "2DAA",
									"Residency_Category": "Cat3_100_500K",
									"Service_District": "AC",
									"Gender": "M",
									"Customer_Age_Group": "01:35",
									"Brand_aware_Cat": "1-New",
									"Camp_AvgClick_LastYear": null,
									"Camp_AvgResp_LastYear": null,
									"Contact_First_Date": "22.02.2007",
									"Contact_Last_Date": "22.02.2017",
									"CustComm_Accept_Flag": 1,
									"CustComm_Count_LastYear": null,
									"Customer_Tenure": 19.31147541,
									"CustReq_Count": 4,
									"CustReq_Payment_Flag": null,
									"CustReq_Prod_flag": 0,
									"CustReq_Prod_Support_Flag": 0,
									"CustReq_Product_Closed_Flag": 1,
									"CustReq_Resp_Flag": null,
									"Date Last Purchase": "22.02.2019",
									"GEO_CAT": "OTHER",
									"LastResponse_Flag": null,
									"Loyalty_YM": "01.09.2014",
									"LoyaltyBonus_Redeem_LastYear": null,
									"LoyaltyPurch_Cnt": 3,
									"MostFreq_Purch_Cat": 1,
									"NPS_Cat_Last": 0,
									"NPS_Score_Avg": -1,
									"NPS_Score_Last": 1,
									"PromoCode_Cat": "Extra_10",
									"Sales_Channel_Cat": "Distribution2"
								},
								{
									"_dr_df_index": 1,
									"ID": 242193,
									"churn": 1,
									"Customer_Start_Date": "18.09.2018",
									"ZipCode": "2AA6",
									"Residency_Category": "Cat3_100_500K",
									"Service_District": "AC",
									"Gender": "F",
									"Customer_Age_Group": "3: 45-55",
									"Brand_aware_Cat": "4-Know (no prompt)",
									"Camp_AvgClick_LastYear": 0.5,
									"Camp_AvgResp_LastYear": 0.2,
									"Contact_First_Date": "20.10.2006",
									"Contact_Last_Date": "11.07.2017",
									"CustComm_Accept_Flag": 1,
									"CustComm_Count_LastYear": 10,
									"Customer_Tenure": 18.8852459,
									"CustReq_Count": 6,
									"CustReq_Payment_Flag": null,
									"CustReq_Prod_flag": 0,
									"CustReq_Prod_Support_Flag": 0,
									"CustReq_Product_Closed_Flag": 1,
									"CustReq_Resp_Flag": null,
									"Date Last Purchase": "11.07.2019",
									"GEO_CAT": "OTHER",
									"LastResponse_Flag": 0,
									"Loyalty_YM": "01.09.2014",
									"LoyaltyBonus_Redeem_LastYear": 1,
									"LoyaltyPurch_Cnt": 2,
									"MostFreq_Purch_Cat": 1,
									"NPS_Cat_Last": null,
									"NPS_Score_Avg": -1,
									"NPS_Score_Last": null,
									"PromoCode_Cat": "Extra_10",
									"Sales_Channel_Cat": "Distribution2"
								},
								{
									"_dr_df_index": 2,
									"ID": 197222,
									"churn": 1,
									"Customer_Start_Date": "26.09.2018",
									"ZipCode": "2AA8",
									"Residency_Category": "Cat3_100_500K",
									"Service_District": "AC",
									"Gender": "M",
									"Customer_Age_Group": null,
									"Brand_aware_Cat": "4-Know (no prompt)",
									"Camp_AvgClick_LastYear": null,
									"Camp_AvgResp_LastYear": null,
									"Contact_First_Date": null,
									"Contact_Last_Date": null,
									"CustComm_Accept_Flag": 1,
									"CustComm_Count_LastYear": null,
									"Customer_Tenure": 18.62295082,
									"CustReq_Count": null,
									"CustReq_Payment_Flag": null,
									"CustReq_Prod_flag": 0,
									"CustReq_Prod_Support_Flag": 0,
									"CustReq_Product_Closed_Flag": 0,
									"CustReq_Resp_Flag": null,
									"Date Last Purchase": null,
									"GEO_CAT": "OTHER",
									"LastResponse_Flag": 1,
									"Loyalty_YM": "01.09.2014",
									"LoyaltyBonus_Redeem_LastYear": null,
									"LoyaltyPurch_Cnt": null,
									"MostFreq_Purch_Cat": 1,
									"NPS_Cat_Last": 0,
									"NPS_Score_Avg": -1,
									"NPS_Score_Last": 1,
									"PromoCode_Cat": "Extra_10",
									"Sales_Channel_Cat": "Distribution2"
								},
								{
									"_dr_df_index": 3,
									"ID": 900083,
									"churn": 1,
									"Customer_Start_Date": "11.10.2018",
									"ZipCode": "263A",
									"Residency_Category": "Cat3_100_500K",
									"Service_District": "AC",
									"Gender": "M",
									"Customer_Age_Group": null,
									"Brand_aware_Cat": "1-New",
									"Camp_AvgClick_LastYear": null,
									"Camp_AvgResp_LastYear": null,
									"Contact_First_Date": null,
									"Contact_Last_Date": null,
									"CustComm_Accept_Flag": 1,
									"CustComm_Count_LastYear": null,
									"Customer_Tenure": 18.13114754,
									"CustReq_Count": null,
									"CustReq_Payment_Flag": null,
									"CustReq_Prod_flag": 0,
									"CustReq_Prod_Support_Flag": 0,
									"CustReq_Product_Closed_Flag": 0,
									"CustReq_Resp_Flag": null,
									"Date Last Purchase": null,
									"GEO_CAT": "OTHER",
									"LastResponse_Flag": 0,
									"Loyalty_YM": "01.10.2014",
									"LoyaltyBonus_Redeem_LastYear": null,
									"LoyaltyPurch_Cnt": null,
									"MostFreq_Purch_Cat": 1,
									"NPS_Cat_Last": null,
									"NPS_Score_Avg": -1,
									"NPS_Score_Last": null,
									"PromoCode_Cat": "Extra_10",
									"Sales_Channel_Cat": "Distribution2"
								},
								{
									"_dr_df_index": 4,
									"ID": 59631,
									"churn": 0,
									"Customer_Start_Date": "05.10.2018",
									"ZipCode": "2AA6",
									"Residency_Category": "Cat3_100_500K",
									"Service_District": "AC",
									"Gender": "M",
									"Customer_Age_Group": "01:35",
									"Brand_aware_Cat": "4-Know (no prompt)",
									"Camp_AvgClick_LastYear": null,
									"Camp_AvgResp_LastYear": 0.09,
									"Contact_First_Date": null,
									"Contact_Last_Date": null,
									"CustComm_Accept_Flag": 1,
									"CustComm_Count_LastYear": 11,
									"Customer_Tenure": 18.32786885,
									"CustReq_Count": null,
									"CustReq_Payment_Flag": null,
									"CustReq_Prod_flag": 0,
									"CustReq_Prod_Support_Flag": 0,
									"CustReq_Product_Closed_Flag": 1,
									"CustReq_Resp_Flag": null,
									"Date Last Purchase": "18.10.2018",
									"GEO_CAT": "OTHER",
									"LastResponse_Flag": 1,
									"Loyalty_YM": "01.10.2014",
									"LoyaltyBonus_Redeem_LastYear": null,
									"LoyaltyPurch_Cnt": 1,
									"MostFreq_Purch_Cat": 1,
									"NPS_Cat_Last": 1,
									"NPS_Score_Avg": 7.72,
									"NPS_Score_Last": 8,
									"PromoCode_Cat": "Extra_10",
									"Sales_Channel_Cat": "Distribution2"
								}
							],
							"columns": [
								{
									"name": "_dr_df_index",
									"type": "integer"
								},
								{
									"name": "ID",
									"type": "integer"
								},
								{
									"name": "churn",
									"type": "integer"
								},
								{
									"name": "Customer_Start_Date",
									"type": "string"
								},
								{
									"name": "ZipCode",
									"type": "string"
								},
								{
									"name": "Residency_Category",
									"type": "string"
								},
								{
									"name": "Service_District",
									"type": "string"
								},
								{
									"name": "Gender",
									"type": "string"
								},
								{
									"name": "Customer_Age_Group",
									"type": "string"
								},
								{
									"name": "Brand_aware_Cat",
									"type": "string"
								},
								{
									"name": "Camp_AvgClick_LastYear",
									"type": "number"
								},
								{
									"name": "Camp_AvgResp_LastYear",
									"type": "number"
								},
								{
									"name": "Contact_First_Date",
									"type": "string"
								},
								{
									"name": "Contact_Last_Date",
									"type": "string"
								},
								{
									"name": "CustComm_Accept_Flag",
									"type": "number"
								},
								{
									"name": "CustComm_Count_LastYear",
									"type": "number"
								},
								{
									"name": "Customer_Tenure",
									"type": "number"
								},
								{
									"name": "CustReq_Count",
									"type": "number"
								},
								{
									"name": "CustReq_Payment_Flag",
									"type": "number"
								},
								{
									"name": "CustReq_Prod_flag",
									"type": "integer"
								},
								{
									"name": "CustReq_Prod_Support_Flag",
									"type": "integer"
								},
								{
									"name": "CustReq_Product_Closed_Flag",
									"type": "integer"
								},
								{
									"name": "CustReq_Resp_Flag",
									"type": "number"
								},
								{
									"name": "Date Last Purchase",
									"type": "string"
								},
								{
									"name": "GEO_CAT",
									"type": "string"
								},
								{
									"name": "LastResponse_Flag",
									"type": "number"
								},
								{
									"name": "Loyalty_YM",
									"type": "string"
								},
								{
									"name": "LoyaltyBonus_Redeem_LastYear",
									"type": "number"
								},
								{
									"name": "LoyaltyPurch_Cnt",
									"type": "number"
								},
								{
									"name": "MostFreq_Purch_Cat",
									"type": "integer"
								},
								{
									"name": "NPS_Cat_Last",
									"type": "number"
								},
								{
									"name": "NPS_Score_Avg",
									"type": "number"
								},
								{
									"name": "NPS_Score_Last",
									"type": "number"
								},
								{
									"name": "PromoCode_Cat",
									"type": "string"
								},
								{
									"name": "Sales_Channel_Cat",
									"type": "string"
								}
							],
							"count": 5,
							"totalCount": 5,
							"offset": 0,
							"limit": 10,
							"referenceId": 140217796115088,
							"sortedBy": "",
							"indexKey": "_dr_df_index",
							"error": []
						}
					},
					"metadata": {}
				}
			],
			"execution_count": 3
		},
		{
			"id": "64c78f1b95bc2891104d96b2",
			"cell_type": "markdown",
			"source": "You can start modeling directly from your dataset. However it's usually best to register the dataset in DataRobot AI Catalog where you can manage data, keep track of versions, profile data, and manage feature lists used across modeling projects.  See more details about AI Catalog here:\n\n* [DataRobot UI documentation: AI Catalog](https://docs.datarobot.com/en/docs/data/ai-catalog/index.html)",
			"metadata": {
				"collapsed": false,
				"scrolled": false,
				"datarobot": {
					"language": "markdown"
				},
				"hide_code": false,
				"hide_results": false,
				"disable_run": false,
				"chart_settings": null,
				"custom_metric_settings": null,
				"dataframe_view_options": null
			}
		},
		{
			"id": "64c78f7995bc2891104d96d0",
			"cell_type": "code",
			"source": "dr_dataset = dr.Dataset.create_from_in_memory_data(df)\ndr_dataset.modify(name = 'DR_AI_Accelerator_Retail_Clustering_training.csv')\nprint(\"Dataset name: \", dr_dataset.name)\nprint(\"Dataset URL: \", dr_dataset.get_uri())",
			"metadata": {
				"name": "register data in AI Catalog (first run of the notebook)",
				"collapsed": false,
				"scrolled": false,
				"datarobot": {
					"language": "python"
				},
				"hide_code": false,
				"hide_results": false,
				"disable_run": true,
				"chart_settings": null,
				"custom_metric_settings": null,
				"dataframe_view_options": null
			},
			"outputs": [
				{
					"output_type": "execute_result",
					"execution_count": 4,
					"data": {
						"text/plain": "Dataset name:  DR_AI_Accelerator_Retail_Clustering_training.csv\nDataset URL:  https://app.eu.datarobot.com/ai-catalog/64c79a8115dfd2afa7006800\n"
					},
					"metadata": {}
				}
			],
			"execution_count": null
		},
		{
			"id": "64c78188c89525a9d454043c",
			"cell_type": "markdown",
			"source": "Below is an example of getting data from a previousy created dataset in DataRobot AI Catalog. You can use this in any repetitive runs of the notebook on the same dataset.",
			"metadata": {
				"collapsed": false,
				"scrolled": false,
				"datarobot": {
					"language": "markdown"
				},
				"hide_code": false,
				"hide_results": false,
				"disable_run": false,
				"chart_settings": null,
				"custom_metric_settings": null,
				"dataframe_view_options": null
			}
		},
		{
			"id": "64c7814bc8600686cf2235d8",
			"cell_type": "code",
			"source": "dataset_id = '64c77ae13d57ce3f5fb9ae25' # specify your dataset ID, which is listed after ai-catalog in the URL\n\ndr_dataset = dr.Dataset.get(dataset_id)\nprint(\"Dataset name: \", dr_dataset.name)\nprint(\"Dataset URL: \", dr_dataset.get_uri())\ndf = dr_dataset.get_as_dataframe()",
			"metadata": {
				"name": "Get data from an existing AI Catalog dataset",
				"collapsed": false,
				"scrolled": false,
				"datarobot": {
					"language": "python"
				},
				"hide_code": false,
				"hide_results": false,
				"disable_run": false,
				"chart_settings": null,
				"custom_metric_settings": null,
				"dataframe_view_options": null
			},
			"outputs": [
				{
					"output_type": "execute_result",
					"execution_count": 4,
					"data": {
						"text/plain": "Dataset name:  Retail_Clustering_Training_data.csv\nDataset URL:  https://app.eu.datarobot.com/ai-catalog/64c77ae13d57ce3f5fb9ae25\n"
					},
					"metadata": {}
				}
			],
			"execution_count": 4
		},
		{
			"id": "646738ded2dbcd1ef6a3a229",
			"cell_type": "markdown",
			"source": "## Run DataRobot clustering to segment your data\nYou could start the clusering project immediately to let DataRobot build informative feature lists and run several versions of each model to detect the best number of segments. However in most cases, you will want to take advantage of exploratory data analysis and narrow down your feature list before starting a new segmentation project.\n(You could even select the target temporarily, explore the features that are predictive, and then switch back to your segmentation project guarded with this information. This step is out of scope of this notebook.)\n\nYou commence with starting a new Clustering project in Manual mode.",
			"metadata": {
				"collapsed": false,
				"scrolled": false,
				"datarobot": {
					"language": "markdown"
				},
				"hide_code": false,
				"hide_results": false,
				"disable_run": false,
				"chart_settings": null,
				"custom_metric_settings": null,
				"dataframe_view_options": null
			}
		},
		{
			"id": "6467246b7a39c8eb33fabc8e",
			"cell_type": "code",
			"source": "\nproject = dr.Project.create_from_dataset(dataset_id = dr_dataset.id, project_name=\"DR_AI_Accelerator_Retail_Clustering_part1_{}\".format(d1))\nproject",
			"metadata": {
				"name": "launch project from a dataset in DataRobot AI Catalog",
				"collapsed": false,
				"scrolled": false,
				"datarobot": {
					"language": "python"
				},
				"hide_code": false,
				"hide_results": false,
				"disable_run": false,
				"chart_settings": null,
				"custom_metric_settings": null,
				"dataframe_view_options": null
			},
			"outputs": [
				{
					"output_type": "execute_result",
					"execution_count": 5,
					"data": {
						"text/plain": "Project(DR_AI_Accelerator_Retail_Clustering_part1_20230801)"
					},
					"metadata": {}
				}
			],
			"execution_count": 5
		},
		{
			"id": "646720dbd2dbcd1ef6a3a1f3",
			"cell_type": "code",
			"source": "# reference: https://datarobot-public-api-client.readthedocs-hosted.com/en/latest-release/reference/modeling/spec/unsupervised_clustering.html?highlight=clustering#unsupervised-projects-clustering\n\nproject.analyze_and_model(unsupervised_mode=True,\n                                   unsupervised_type=UnsupervisedTypeEnum.CLUSTERING,\n                                    mode = dr.AUTOPILOT_MODE.MANUAL,\n                                      max_wait=2400)",
			"metadata": {
				"name": "Run in Manual for Clustering mode",
				"collapsed": false,
				"scrolled": false,
				"datarobot": {
					"language": "python"
				},
				"hide_code": false,
				"hide_results": false,
				"disable_run": false,
				"chart_settings": null,
				"custom_metric_settings": null,
				"dataframe_view_options": null
			},
			"outputs": [
				{
					"output_type": "execute_result",
					"execution_count": 6,
					"data": {
						"text/plain": "Project(DR_AI_Accelerator_Retail_Clustering_part1_20230801)"
					},
					"metadata": {}
				}
			],
			"execution_count": 6
		},
		{
			"id": "64c7ca4122251df62cbd6347",
			"cell_type": "markdown",
			"source": "As a result of the manual run, DataRobot split your dataset into training and validation partitions and created a feature list with Informative features. You can check it and create your own feature lists as needed. The best practice is to start from the smaller feature list, redacting the list of promising features according to your domain expertise and correlations shown in Feature Associations.\n\nSee more details here:\n\n* [DataRobot Tutorial: Working with Feature Lists](https://docs.datarobot.com/en/docs/get-started/gs-get-help/tutorials/prep-learning-data/work-with-feature-lists.html#work-with-feature-lists)\n* [DataRobot Tutorial: Analyze Feature Associations](https://docs.datarobot.com/en/docs/get-started/gs-get-help/tutorials/prep-learning-data/analyze-feature-associations.html#analyze-feature-associations)",
			"metadata": {
				"collapsed": false,
				"scrolled": false,
				"datarobot": {
					"language": "markdown"
				},
				"hide_code": false,
				"hide_results": false,
				"disable_run": false,
				"chart_settings": null,
				"custom_metric_settings": null,
				"dataframe_view_options": null
			}
		},
		{
			"id": "64672c7c55990427d9495e48",
			"cell_type": "code",
			"source": "proj_feature_lists = project.get_modeling_featurelists()\nfor fl in proj_feature_lists:\n  print(fl.name)\nfeature_list_1 = [fl for fl in proj_feature_lists if 'Informative' in fl.name][0].features\nfeature_list_1",
			"metadata": {
				"name": "Inspect modeling feature lists",
				"collapsed": false,
				"scrolled": false,
				"datarobot": {
					"language": "python"
				},
				"hide_code": false,
				"hide_results": false,
				"disable_run": false,
				"chart_settings": null,
				"custom_metric_settings": null,
				"dataframe_view_options": null
			},
			"outputs": [
				{
					"output_type": "execute_result",
					"execution_count": 7,
					"data": {
						"text/plain": "Raw Features\nInformative Features\n['ID',\n 'churn',\n 'Customer_Start_Date (Year)',\n 'ZipCode',\n 'Residency_Category',\n 'Service_District',\n 'Gender',\n 'Customer_Age_Group',\n 'Brand_aware_Cat',\n 'Camp_AvgClick_LastYear',\n 'Camp_AvgResp_LastYear',\n 'Contact_First_Date (Year)',\n 'Contact_Last_Date (Year)',\n 'CustComm_Accept_Flag',\n 'CustComm_Count_LastYear',\n 'Customer_Tenure',\n 'CustReq_Count',\n 'CustReq_Payment_Flag',\n 'CustReq_Prod_flag',\n 'CustReq_Prod_Support_Flag',\n 'CustReq_Product_Closed_Flag',\n 'CustReq_Resp_Flag',\n 'Date Last Purchase (Year)',\n 'GEO_CAT',\n 'LastResponse_Flag',\n 'Loyalty_YM (Year)',\n 'LoyaltyBonus_Redeem_LastYear',\n 'LoyaltyPurch_Cnt',\n 'MostFreq_Purch_Cat',\n 'NPS_Cat_Last',\n 'NPS_Score_Avg',\n 'NPS_Score_Last',\n 'PromoCode_Cat',\n 'Sales_Channel_Cat',\n 'Contact_First_Date (Day of Month)',\n 'Contact_First_Date (Day of Week)',\n 'Contact_First_Date (Month)',\n 'Contact_Last_Date (Day of Month)',\n 'Contact_Last_Date (Day of Week)',\n 'Contact_Last_Date (Month)',\n 'Customer_Start_Date (Day of Month)',\n 'Customer_Start_Date (Day of Week)',\n 'Customer_Start_Date (Month)',\n 'Date Last Purchase (Day of Month)',\n 'Date Last Purchase (Day of Week)',\n 'Date Last Purchase (Month)',\n 'Loyalty_YM (Day of Month)',\n 'Loyalty_YM (Day of Week)',\n 'Loyalty_YM (Month)']"
					},
					"metadata": {}
				}
			],
			"execution_count": 7
		},
		{
			"id": "64672dfb55990427d9495e4e",
			"cell_type": "code",
			"source": "features_to_remove= ['ID', 'ZipCode']\n\nfeatures_to_keep= ['churn',\n 'Residency_Category',\n 'Service_District',\n 'Gender',\n 'Customer_Age_Group',\n 'Brand_aware_Cat',\n 'Camp_AvgClick_LastYear',\n 'Camp_AvgResp_LastYear',\n 'CustComm_Count_LastYear',\n 'Customer_Tenure',\n 'CustReq_Count',\n 'GEO_CAT',\n 'LastResponse_Flag',\n 'LoyaltyBonus_Redeem_LastYear',\n 'LoyaltyPurch_Cnt',\n 'MostFreq_Purch_Cat',\n 'NPS_Cat_Last',\n 'NPS_Score_Avg',\n 'PromoCode_Cat',\n 'Sales_Channel_Cat']",
			"metadata": {
				"name": "Create your own lists of features to remove or keep",
				"collapsed": false,
				"scrolled": false,
				"datarobot": {
					"language": "python"
				},
				"hide_code": false,
				"hide_results": false,
				"disable_run": false,
				"chart_settings": null,
				"custom_metric_settings": null,
				"dataframe_view_options": null
			},
			"outputs": [],
			"execution_count": null
		},
		{
			"id": "64c7cc4522251df62cbd63ec",
			"cell_type": "markdown",
			"source": "Use the example code below to generate the new feature list that only included your chosen features and excludes the features marked for removal.",
			"metadata": {
				"collapsed": false,
				"scrolled": false,
				"datarobot": {
					"language": "markdown"
				},
				"hide_code": false,
				"hide_results": false,
				"disable_run": false,
				"chart_settings": null,
				"custom_metric_settings": null,
				"dataframe_view_options": null
			}
		},
		{
			"id": "646734d37a39c8eb33fabcb0",
			"cell_type": "code",
			"source": "feature_list_2 = [fle for fle in feature_list_1 if fle not in features_to_remove and fle in features_to_keep]\nfeature_list_2",
			"metadata": {
				"name": "List only features to use in clustering",
				"collapsed": false,
				"scrolled": false,
				"datarobot": {
					"language": "python"
				},
				"hide_code": false,
				"hide_results": false,
				"disable_run": false,
				"chart_settings": null,
				"custom_metric_settings": null,
				"dataframe_view_options": null
			},
			"outputs": [
				{
					"output_type": "execute_result",
					"execution_count": 9,
					"data": {
						"text/plain": "['churn',\n 'Residency_Category',\n 'Service_District',\n 'Gender',\n 'Customer_Age_Group',\n 'Brand_aware_Cat',\n 'Camp_AvgClick_LastYear',\n 'Camp_AvgResp_LastYear',\n 'CustComm_Count_LastYear',\n 'Customer_Tenure',\n 'CustReq_Count',\n 'GEO_CAT',\n 'LastResponse_Flag',\n 'LoyaltyBonus_Redeem_LastYear',\n 'LoyaltyPurch_Cnt',\n 'MostFreq_Purch_Cat',\n 'NPS_Cat_Last',\n 'NPS_Score_Avg',\n 'PromoCode_Cat',\n 'Sales_Channel_Cat']"
					},
					"metadata": {}
				}
			],
			"execution_count": 9
		},
		{
			"id": "646734f77a39c8eb33fabcb2",
			"cell_type": "code",
			"source": "feature_list_v2 = project.create_featurelist('clustering_fl_v1', features=list(feature_list_2))",
			"metadata": {
				"name": "Create a new feature list in the project",
				"collapsed": false,
				"scrolled": false,
				"datarobot": {
					"language": "python"
				},
				"hide_code": false,
				"hide_results": false,
				"disable_run": false,
				"chart_settings": null,
				"custom_metric_settings": null,
				"dataframe_view_options": null
			},
			"outputs": [],
			"execution_count": null
		},
		{
			"id": "64c7cc9295bc2891104daaab",
			"cell_type": "markdown",
			"source": "After checking the feature list, re-run the project again in Comprehensive mode. Note that this is the only mode available for Unsupervised Clustering projects, so in the UI you will only see the option 'Re-run modeling'.\n\nSee more details on supervised Autopilot modes here:\n\n* [DataRobot Tutorial: Set the modeling mode](https://docs.datarobot.com/en/docs/get-started/gs-get-help/tutorials/creating-ai-models/tut-model-mode.html#autopilot)\n",
			"metadata": {
				"collapsed": false,
				"scrolled": false,
				"datarobot": {
					"language": "markdown"
				},
				"hide_code": false,
				"hide_results": false,
				"disable_run": false,
				"chart_settings": null,
				"custom_metric_settings": null,
				"dataframe_view_options": null
			}
		},
		{
			"id": "6467355055990427d9495e5b",
			"cell_type": "code",
			"source": "project.start_autopilot(featurelist_id=feature_list_v2.id,     #specify a custom feature list\n                                               mode = 'comprehensive',\n                                  blend_best_models=False, scoring_code_only=False, prepare_model_for_deployment=False, consider_blenders_in_recommendation=False, run_leakage_removed_feature_list=False, autopilot_cluster_list=[3,5,7,9])\n",
			"metadata": {
				"name": "Start in Comprehensive mode with the newly defined feature list",
				"collapsed": false,
				"scrolled": false,
				"datarobot": {
					"language": "python"
				},
				"hide_code": false,
				"hide_results": false,
				"disable_run": false,
				"chart_settings": null,
				"custom_metric_settings": null,
				"dataframe_view_options": null
			},
			"outputs": [],
			"execution_count": null
		},
		{
			"id": "646737077a39c8eb33fabcc1",
			"cell_type": "code",
			"source": "project.wait_for_autopilot()",
			"metadata": {
				"name": "Run this line to wait until the clustering project run is complete",
				"collapsed": false,
				"scrolled": false,
				"datarobot": {
					"language": "python"
				},
				"hide_code": false,
				"hide_results": false,
				"disable_run": false,
				"chart_settings": null,
				"custom_metric_settings": null,
				"dataframe_view_options": null
			},
			"outputs": [
				{
					"output_type": "execute_result",
					"execution_count": 12,
					"data": {
						"text/plain": "In progress: 0, queued: 0 (waited: 0s)\nIn progress: 0, queued: 0 (waited: 0s)\nIn progress: 6, queued: 0 (waited: 1s)\nIn progress: 6, queued: 0 (waited: 2s)\nIn progress: 6, queued: 0 (waited: 3s)\n"
					},
					"metadata": {}
				},
				{
					"output_type": "execute_result",
					"execution_count": 12,
					"data": {
						"text/plain": "In progress: 6, queued: 0 (waited: 5s)\n"
					},
					"metadata": {}
				},
				{
					"output_type": "execute_result",
					"execution_count": 12,
					"data": {
						"text/plain": "In progress: 6, queued: 0 (waited: 8s)\n"
					},
					"metadata": {}
				},
				{
					"output_type": "execute_result",
					"execution_count": 12,
					"data": {
						"text/plain": "In progress: 6, queued: 0 (waited: 15s)\n"
					},
					"metadata": {}
				},
				{
					"output_type": "execute_result",
					"execution_count": 12,
					"data": {
						"text/plain": "In progress: 6, queued: 0 (waited: 28s)\n"
					},
					"metadata": {}
				},
				{
					"output_type": "execute_result",
					"execution_count": 12,
					"data": {
						"text/plain": "In progress: 6, queued: 0 (waited: 49s)\n"
					},
					"metadata": {}
				},
				{
					"output_type": "execute_result",
					"execution_count": 12,
					"data": {
						"text/plain": "In progress: 6, queued: 0 (waited: 69s)\n"
					},
					"metadata": {}
				},
				{
					"output_type": "execute_result",
					"execution_count": 12,
					"data": {
						"text/plain": "In progress: 2, queued: 0 (waited: 89s)\n"
					},
					"metadata": {}
				},
				{
					"output_type": "execute_result",
					"execution_count": 12,
					"data": {
						"text/plain": "In progress: 0, queued: 0 (waited: 110s)\n"
					},
					"metadata": {}
				}
			],
			"execution_count": 12
		},
		{
			"id": "646739267a39c8eb33fabcc8",
			"cell_type": "markdown",
			"source": "## Inspect resulting segmentation models\nAfter this project run is finished, you typically want to select a few top-performing models. The models are ranked by Silhouette score. This metric evaluates two key aspects of a clustering model: the quality of separation between clusters and similarity inside the identified clusters.\n\nIf you prefer a specific modeling algorithm for your segmentation project, you can restrict the analysis to only this model type.\nK-Means is usually a good algorithm to start with if you don't have any specific requirements, as it tends to result in bigger clusters and it's easily interpretable.\n\nIn the code section below, we provide an example to select top 3 K-Means models from the segmentation project and then one best model from this selection.\n\nSee more details about this metric here:\n\n* [DataRobot documentation: Silhouette score](https://docs.datarobot.com/en/docs/modeling/reference/model-detail/opt-metric.html#silhouette-score)",
			"metadata": {
				"collapsed": false,
				"scrolled": false,
				"datarobot": {
					"language": "markdown"
				},
				"hide_code": false,
				"hide_results": false,
				"disable_run": false,
				"chart_settings": null,
				"custom_metric_settings": null,
				"dataframe_view_options": null
			}
		},
		{
			"id": "646737b67a39c8eb33fabcc4",
			"cell_type": "code",
			"source": "# get the best model\nmodels = project.get_models()\nmet = project.metric\nopt_group = 'validation' # clustering projects only have 'validation' and 'holdout'\n# sort by the project metric in descsending order (select best models by Silhouette score) and optionally restrict to specific model types\n\ntop_models = sorted(\n                            [m for m in models if m.metrics[met][opt_group] and 'K-Means' in m.model_type],  \n                            key=lambda m: m.metrics[met][opt_group],\n                            reverse = True)[0:3]\nchosen_model = [m for m in top_models if 'K-Means' in m.model_type][0]\nmodel_to_explore = chosen_model",
			"metadata": {
				"name": "choose model by metric and model type",
				"collapsed": false,
				"scrolled": false,
				"datarobot": {
					"language": "python"
				},
				"hide_code": false,
				"hide_results": false,
				"disable_run": false,
				"chart_settings": null,
				"custom_metric_settings": null,
				"dataframe_view_options": null
			},
			"outputs": [],
			"execution_count": null
		},
		{
			"id": "64c7d26f95bc2891104dac95",
			"cell_type": "markdown",
			"source": "At this point, you could also work in mixed mode: switch into DataRobot GUI to explore the project outputs and insights, and then go back to the notebook to specify your chosen model by ID.",
			"metadata": {
				"collapsed": false,
				"scrolled": false,
				"datarobot": {
					"language": "markdown"
				},
				"hide_code": false,
				"hide_results": false,
				"disable_run": false,
				"chart_settings": null,
				"custom_metric_settings": null,
				"dataframe_view_options": null
			}
		},
		{
			"id": "64c7d2e540e1ec21f5a9b94e",
			"cell_type": "code",
			"source": "print(\"Link to the project in the GUI: \", project.get_uri())",
			"metadata": {
				"name": "get project URL to explore in the GUI",
				"collapsed": false,
				"scrolled": false,
				"datarobot": {
					"language": "python"
				},
				"hide_code": false,
				"hide_results": false,
				"disable_run": false,
				"chart_settings": null,
				"custom_metric_settings": null,
				"dataframe_view_options": null
			},
			"outputs": [
				{
					"output_type": "execute_result",
					"execution_count": 14,
					"data": {
						"text/plain": "Link to the project in the GUI:  https://app.eu.datarobot.com/projects/64c944582e634bd37173f704/models\n"
					},
					"metadata": {}
				}
			],
			"execution_count": 14
		},
		{
			"id": "64672b8d0b442ff05d68650b",
			"cell_type": "code",
			"source": "modelID = '64c9478a875736eaede9f64c'\nmodel_to_explore_GUI = ClusteringModel.get(project.id, modelID)\nmodel_to_explore_GUI.__dict__",
			"metadata": {
				"name": "example code to choose model from the GUI by ID",
				"collapsed": false,
				"scrolled": false,
				"datarobot": {
					"language": "python"
				},
				"hide_code": false,
				"hide_results": false,
				"disable_run": false,
				"chart_settings": null,
				"custom_metric_settings": null,
				"dataframe_view_options": null
			},
			"outputs": [
				{
					"output_type": "execute_result",
					"execution_count": 15,
					"data": {
						"text/plain": "{'id': '64c9478a875736eaede9f64c',\n 'processes': ['One-Hot Encoding',\n  'Truncated Singular Value Decomposition',\n  'Missing Values Imputed',\n  'Standardize',\n  'K-Means Clustering'],\n 'featurelist_name': 'clustering_fl_v1',\n 'featurelist_id': '64c946e512cae5ad990d173c',\n 'project_id': '64c944582e634bd37173f704',\n 'sample_pct': 89.99822,\n 'training_row_count': 45261,\n 'training_duration': None,\n 'training_start_date': None,\n 'training_end_date': None,\n 'model_type': 'K-Means Clustering',\n 'model_category': 'model',\n 'is_frozen': False,\n 'is_n_clusters_dynamically_determined': False,\n 'blueprint_id': 'c9176801ea1f284280db8a5367f936bb',\n 'metrics': {'Silhouette Score': {'validation': 0.2297700047492981,\n   'crossValidation': None,\n   'holdout': None,\n   'training': 0.2266400009393692,\n   'backtestingScores': None,\n   'backtesting': None}},\n 'monotonic_increasing_featurelist_id': None,\n 'monotonic_decreasing_featurelist_id': None,\n 'n_clusters': 3,\n 'has_empty_clusters': False,\n 'supports_monotonic_constraints': False,\n 'is_starred': False,\n 'prediction_threshold': 0.5,\n 'prediction_threshold_read_only': False,\n 'model_number': 8,\n 'parent_model_id': None,\n 'use_project_settings': None,\n 'supports_composable_ml': False,\n '_base_model_path': 'projects/64c944582e634bd37173f704/models/',\n '_project': Project(DR_AI_Accelerator_Retail_Clustering_part1_20230801),\n '_featurelist': Featurelist(clustering_fl_v1),\n '_blueprint': Blueprint(K-Means Clustering)}"
					},
					"metadata": {}
				}
			],
			"execution_count": 15
		},
		{
			"id": "64c7d4d422251df62cbd66c6",
			"cell_type": "markdown",
			"source": "Next, proceed to trigger the calculation of Clustering Insights. These outputs are the most valuable part of any segmentation project. Check out the most impactful features in Feature Impact and then head over to Insights to explore the visualizations.",
			"metadata": {
				"collapsed": false,
				"scrolled": false,
				"datarobot": {
					"language": "markdown"
				},
				"hide_code": false,
				"hide_results": false,
				"disable_run": false,
				"chart_settings": null,
				"custom_metric_settings": null,
				"dataframe_view_options": null
			}
		},
		{
			"id": "64c7dd7f95bc2891104db033",
			"cell_type": "code",
			"source": "model = ClusteringModel.get(model_to_explore.project_id, model_to_explore.id)\ntry:\n    model.compute_insights()\n    jobs_list = project.get_all_jobs()\n    for job in jobs_list:\n        if job.job_type =='clusterInsights':\n            insights = job.get_result_when_complete(max_wait=max_wait)\n\nexcept:\n    insights=model.insights\n",
			"metadata": {
				"name": "get Clustering Insights from your chosen model",
				"collapsed": false,
				"scrolled": false,
				"datarobot": {
					"language": "python"
				},
				"hide_code": false,
				"hide_results": false,
				"disable_run": false,
				"chart_settings": null,
				"custom_metric_settings": null,
				"dataframe_view_options": null
			},
			"outputs": [],
			"execution_count": null
		},
		{
			"id": "64c8c32d95bc2891104df9dd",
			"cell_type": "markdown",
			"source": "[TBD, August 01] It's a good practice to use function definitions for more complex data manipulations such as the one shown above. This function definition needs to be adjusted to handle try and except clause correctly.",
			"metadata": {
				"collapsed": false,
				"scrolled": false,
				"datarobot": {
					"language": "markdown"
				},
				"hide_code": false,
				"hide_results": false,
				"disable_run": false,
				"chart_settings": null,
				"custom_metric_settings": null,
				"dataframe_view_options": null
			}
		},
		{
			"id": "6467419bd2dbcd1ef6a3a244",
			"cell_type": "code",
			"source": "# helper function\n# def request_clustering_insights(model, max_wait = None):\n#     model = ClusteringModel.get(model.project_id, model.id)\n#     try:\n#         model.compute_insights(max_wait = max_wait)\n#     except:\n#         insights=model.insights\n#     jobs_list = project.get_all_jobs()  # gives all jobs queued or inprogress\n#     for job in jobs_list:\n#         if job.job_type =='clusterInsights':\n#             insights = job.get_result_when_complete(max_wait=max_wait)\n\n#     return insights\n\n# model_insights = request_clustering_insights(model_to_explore)\n# model_insights",
			"metadata": {
				"name": "FIX BEFORE PUBLISHING a function to compute clustering insights or get previously computed insights",
				"collapsed": false,
				"scrolled": false,
				"datarobot": {
					"language": "python"
				},
				"hide_code": false,
				"hide_results": false,
				"disable_run": false,
				"chart_settings": null,
				"custom_metric_settings": null,
				"dataframe_view_options": null
			},
			"outputs": [],
			"execution_count": null
		},
		{
			"id": "646742de55990427d9495e84",
			"cell_type": "code",
			"source": "for model in top_models:\n  print(model.model_type, ', Silhouette: ', model.metrics[met][opt_group])\n  try:\n    model = ClusteringModel.get(model.project_id, model.id)\n    insights = model.compute_insights(max_wait = 600)\n  except:\n    model = ClusteringModel.get(model.project_id, model.id)\n    insights=model.insights\n",
			"metadata": {
				"name": "List Silhouette metrics for your top models",
				"collapsed": false,
				"scrolled": false,
				"datarobot": {
					"language": "python"
				},
				"hide_code": false,
				"hide_results": false,
				"disable_run": false,
				"chart_settings": null,
				"custom_metric_settings": null,
				"dataframe_view_options": null
			},
			"outputs": [
				{
					"output_type": "execute_result",
					"execution_count": 19,
					"data": {
						"text/plain": "K-Means Clustering , Silhouette:  0.2297700047492981\nK-Means Clustering , Silhouette:  0.20029999315738678\n"
					},
					"metadata": {}
				},
				{
					"output_type": "execute_result",
					"execution_count": 19,
					"data": {
						"text/plain": "K-Means Clustering , Silhouette:  0.18297000229358673\n"
					},
					"metadata": {}
				}
			],
			"execution_count": 19
		},
		{
			"id": "646738667a39c8eb33fabcc5",
			"cell_type": "code",
			"source": "# helper function\ndef print_summary(name, percent):\n    if not percent:\n        percent = \"?\"\n    print(\"'{}' holds {} % of data\".format(name, percent))\n\nfor model in top_models:\n  print(model.model_type, ', Silhouette: ', model.metrics[met][opt_group])\n  # request_clustering_insights(model)\n  model = ClusteringModel.get(model.project_id, model.id)\n  for cluster in model.clusters:\n      print_summary(cluster.name, cluster.percent)",
			"metadata": {
				"name": "List specific insights - check cluster sizes",
				"collapsed": false,
				"scrolled": false,
				"datarobot": {
					"language": "python"
				},
				"hide_code": false,
				"hide_results": false,
				"disable_run": false,
				"chart_settings": null,
				"custom_metric_settings": null,
				"dataframe_view_options": null
			},
			"outputs": [
				{
					"output_type": "execute_result",
					"execution_count": 21,
					"data": {
						"text/plain": "K-Means Clustering , Silhouette:  0.2297700047492981\n'Cluster 1' holds 37.62179359713661 % of data\n'Cluster 2' holds 35.158304058681864 % of data\n'Cluster 3' holds 27.219902344181524 % of data\nK-Means Clustering , Silhouette:  0.20029999315738678\n'Cluster 1' holds 20.841342436092884 % of data\n'Cluster 2' holds 20.039327456308964 % of data\n'Cluster 3' holds 31.656392921057865 % of data\n'Cluster 4' holds 18.09283930978105 % of data\n'Cluster 5' holds 9.37009787675924 % of data\nK-Means Clustering , Silhouette:  0.18297000229358673\n'Cluster 1' holds 5.393164092706745 % of data\n'Cluster 2' holds 19.851527805395374 % of data\n'Cluster 3' holds 9.071827842955305 % of data\n'Cluster 4' holds 10.048386027705972 % of data\n'Cluster 5' holds 14.772099600097214 % of data\n'Cluster 6' holds 1.8912529550827424 % of data\n'Cluster 7' holds 14.997459181193522 % of data\n'Cluster 8' holds 14.571043503236782 % of data\n'Cluster 9' holds 9.403238991626345 % of data\n"
					},
					"metadata": {}
				}
			],
			"execution_count": 21
		},
		{
			"id": "646745d40b442ff05d686557",
			"cell_type": "markdown",
			"source": "## Complete the segmentation work\nAs described above, you can either head to the DataRobot web interface (GUI) and inspect your clusters or work via API. Your typical workflow with any segmentation project can include testing several feature lists, enriching the model with additional data or further feature reduction, selecting models that result in bigger clusters, and other iterations.\nIn the final segmentation model, you can also rename your clusters and assign the meaninful labels for future use.",
			"metadata": {
				"collapsed": false,
				"scrolled": false,
				"datarobot": {
					"language": "markdown"
				},
				"hide_code": false,
				"hide_results": false,
				"disable_run": false,
				"chart_settings": null,
				"custom_metric_settings": null,
				"dataframe_view_options": null
			}
		},
		{
			"id": "6467389e55990427d9495e65",
			"cell_type": "code",
			"source": "\n# choose a specific model by ID\nmodel_id = '64c9478a875736eaede9f64c'\nmodel_to_rename = ClusteringModel.get(project.id, model_id)\n\n# after exploring insights, update multiple cluster labels\ncluster_name_mappings = [\n    (\"Cluster 1\", \"High NPS & Low Campaign Response\"),\n    (\"Cluster 2\", \"Low NPS & High Churn Rate\"),\n    (\"Cluster 3\", \"Med/High NPS & High Campaign Response\")\n]\n\nclusters = model_to_rename.update_cluster_names(cluster_name_mappings)\n",
			"metadata": {
				"name": "Rename clusters as needed via API",
				"collapsed": false,
				"scrolled": false,
				"datarobot": {
					"language": "python"
				},
				"hide_code": false,
				"hide_results": false,
				"disable_run": false,
				"chart_settings": null,
				"custom_metric_settings": null,
				"dataframe_view_options": null
			},
			"outputs": [],
			"execution_count": null
		},
		{
			"id": "6467460255990427d9495e8e",
			"cell_type": "markdown",
			"source": "## Deploy your chosen model for future use\n\nAfter you have explored your data and finalized your segmentation model, you can deploy it in DataRobot.\n",
			"metadata": {
				"collapsed": false,
				"scrolled": false,
				"datarobot": {
					"language": "markdown"
				},
				"hide_code": false,
				"hide_results": false,
				"disable_run": false,
				"chart_settings": null,
				"custom_metric_settings": null,
				"dataframe_view_options": null
			}
		},
		{
			"id": "64c76471c89525a9d453faec",
			"cell_type": "code",
			"source": "# choose a specific model by ID\nmodel_id = '64c9478a875736eaede9f64c'\n\nmodel_to_deploy = ClusteringModel.get(project.id, model_id)\nmodel_to_deploy.__dict__",
			"metadata": {
				"name": "select a model and check properties before deployment",
				"collapsed": false,
				"scrolled": false,
				"datarobot": {
					"language": "python"
				},
				"hide_code": false,
				"hide_results": false,
				"disable_run": false,
				"chart_settings": null,
				"custom_metric_settings": null,
				"dataframe_view_options": null
			},
			"outputs": [
				{
					"output_type": "execute_result",
					"execution_count": 23,
					"data": {
						"text/plain": "{'id': '64c9478a875736eaede9f64c',\n 'processes': ['One-Hot Encoding',\n  'Truncated Singular Value Decomposition',\n  'Missing Values Imputed',\n  'Standardize',\n  'K-Means Clustering'],\n 'featurelist_name': 'clustering_fl_v1',\n 'featurelist_id': '64c946e512cae5ad990d173c',\n 'project_id': '64c944582e634bd37173f704',\n 'sample_pct': 89.99822,\n 'training_row_count': 45261,\n 'training_duration': None,\n 'training_start_date': None,\n 'training_end_date': None,\n 'model_type': 'K-Means Clustering',\n 'model_category': 'model',\n 'is_frozen': False,\n 'is_n_clusters_dynamically_determined': False,\n 'blueprint_id': 'c9176801ea1f284280db8a5367f936bb',\n 'metrics': {'Silhouette Score': {'validation': 0.2297700047492981,\n   'crossValidation': None,\n   'holdout': None,\n   'training': 0.2266400009393692,\n   'backtestingScores': None,\n   'backtesting': None}},\n 'monotonic_increasing_featurelist_id': None,\n 'monotonic_decreasing_featurelist_id': None,\n 'n_clusters': 3,\n 'has_empty_clusters': False,\n 'supports_monotonic_constraints': False,\n 'is_starred': False,\n 'prediction_threshold': 0.5,\n 'prediction_threshold_read_only': False,\n 'model_number': 8,\n 'parent_model_id': None,\n 'use_project_settings': None,\n 'supports_composable_ml': False,\n '_base_model_path': 'projects/64c944582e634bd37173f704/models/',\n '_project': Project(DR_AI_Accelerator_Retail_Clustering_part1_20230801),\n '_featurelist': Featurelist(clustering_fl_v1),\n '_blueprint': Blueprint(K-Means Clustering)}"
					},
					"metadata": {}
				}
			],
			"execution_count": 23
		},
		{
			"id": "64c7e7af95bc2891104db363",
			"cell_type": "code",
			"source": "if model_to_deploy.sample_pct<100:\n    job = model_to_deploy.train(sample_pct = 99)\n    new_model_job = [j for j in project.get_all_jobs() if j.id == int(job)][0]\n    new_model = new_model_job.get_result_when_complete()\nnew_model",
			"metadata": {
				"name": "Retrain on a chosen sample size (arbitrary % above 90)",
				"collapsed": false,
				"scrolled": false,
				"datarobot": {
					"language": "python"
				},
				"hide_code": false,
				"hide_results": false,
				"disable_run": false,
				"chart_settings": null,
				"custom_metric_settings": null,
				"dataframe_view_options": null
			},
			"outputs": [
				{
					"output_type": "execute_result",
					"execution_count": 24,
					"data": {
						"text/plain": "Model('K-Means Clustering')"
					},
					"metadata": {}
				}
			],
			"execution_count": null
		},
		{
			"id": "64c7e92440e1ec21f5a9c097",
			"cell_type": "code",
			"source": "project.start_prepare_model_for_deployment(model_to_deploy.id)",
			"metadata": {
				"name": "Prepare the chosen model for deployment",
				"collapsed": false,
				"scrolled": false,
				"datarobot": {
					"language": "python"
				},
				"hide_code": false,
				"hide_results": false,
				"disable_run": false,
				"chart_settings": null,
				"custom_metric_settings": null,
				"dataframe_view_options": null
			},
			"outputs": [],
			"execution_count": null
		},
		{
			"id": "64c951d122251df62cbde1cb",
			"cell_type": "code",
			"source": "while project.get_all_jobs():\n    time.sleep(10)",
			"metadata": {
				"name": "wait until the jobs are run",
				"collapsed": false,
				"scrolled": false,
				"datarobot": {
					"language": "python"
				},
				"hide_code": false,
				"hide_results": false,
				"disable_run": false,
				"chart_settings": null,
				"custom_metric_settings": null,
				"dataframe_view_options": null
			},
			"outputs": [
				{
					"output_type": "execute_result",
					"execution_count": 29,
					"data": {
						"text/plain": "[]"
					},
					"metadata": {}
				}
			],
			"execution_count": null
		},
		{
			"id": "64c7f3a895bc2891104db739",
			"cell_type": "code",
			"source": "final_model_to_deploy = [m for m in project.get_models() if m.sample_pct == 100\n                         #and m.blueprint_id == model_to_deploy.blueprint_id\n                        ][0]\nfinal_model_to_deploy.get_uri()",
			"metadata": {
				"name": "note that this code will take the 100% that is higher on the leaderboard",
				"collapsed": false,
				"scrolled": false,
				"datarobot": {
					"language": "python"
				},
				"hide_code": false,
				"hide_results": false,
				"disable_run": false,
				"chart_settings": null,
				"custom_metric_settings": null,
				"dataframe_view_options": null
			},
			"outputs": [
				{
					"output_type": "execute_result",
					"execution_count": 40,
					"data": {
						"text/plain": "'https://app.eu.datarobot.com/projects/64c944582e634bd37173f704/models/64c9517fa4ef5ff19c817501'"
					},
					"metadata": {}
				}
			],
			"execution_count": null
		},
		{
			"id": "64c7f5e695bc2891104db7ed",
			"cell_type": "code",
			"source": "model = ClusteringModel.get(project.id, final_model_to_deploy.id)\n\ntry:\n    model.compute_insights()\n    jobs_list = project.get_all_jobs()\n    for job in jobs_list:\n        if job.job_type =='clusterInsights':\n            insights = job.get_result_when_complete(max_wait=max_wait)\nexcept:\n    insights=model.insights\n",
			"metadata": {
				"name": "trigger clustering insights on the final model",
				"collapsed": false,
				"scrolled": false,
				"datarobot": {
					"language": "python"
				},
				"hide_code": false,
				"hide_results": false,
				"disable_run": false,
				"chart_settings": null,
				"custom_metric_settings": null,
				"dataframe_view_options": null
			},
			"outputs": [],
			"execution_count": null
		},
		{
			"id": "64c7f81c95bc2891104db8a4",
			"cell_type": "code",
			"source": "model_to_rename = ClusteringModel.get(project.id, final_model_to_deploy.id)\n\n# after exploring insights, update multiple cluster labels\ncluster_name_mappings = [\n    (\"Cluster 1\", \"Low NPS & High Churn Rate\"),\n    (\"Cluster 2\", \"High NPS & Low Campaign Response\"),\n    (\"Cluster 3\", \"Med/High NPS & High Campaign Response\")\n]\n\nclusters = model_to_rename.update_cluster_names(cluster_name_mappings)\n",
			"metadata": {
				"name": "review and rename cluster names as needed",
				"collapsed": false,
				"scrolled": false,
				"datarobot": {
					"language": "python"
				},
				"hide_code": false,
				"hide_results": false,
				"disable_run": false,
				"chart_settings": null,
				"custom_metric_settings": null,
				"dataframe_view_options": null
			},
			"outputs": [],
			"execution_count": null
		},
		{
			"id": "64c7e7cb40e1ec21f5a9c027",
			"cell_type": "code",
			"source": "deployment = dr.Deployment.create_from_learning_model(model_id = final_model_to_deploy.id, label = \"DR_AI_Accelerator_Retail_Clustering_part1_{}\".format(d1), default_prediction_server_id =  dr.PredictionServer.list()[-1].id)",
			"metadata": {
				"name": "deploy the model",
				"collapsed": false,
				"scrolled": false,
				"datarobot": {
					"language": "python"
				},
				"hide_code": false,
				"hide_results": false,
				"disable_run": false,
				"chart_settings": null,
				"custom_metric_settings": null,
				"dataframe_view_options": null
			},
			"outputs": [],
			"execution_count": null
		},
		{
			"id": "64c8c24940e1ec21f5aa06d6",
			"cell_type": "code",
			"source": "all_deployments = dr.Deployment.list()\ndeployment = [d for d in all_deployments if 'AI_Accelerator_Retail_Clustering' in d.label \n              and d.model['deployed_at']>'2023-07-30'\n             ][0]\ndeployment.__dict__",
			"metadata": {
				"name": "get an existing deployment by its properties",
				"collapsed": false,
				"scrolled": false,
				"datarobot": {
					"language": "python"
				},
				"hide_code": false,
				"hide_results": false,
				"disable_run": false,
				"chart_settings": null,
				"custom_metric_settings": null,
				"dataframe_view_options": null
			},
			"outputs": [
				{
					"output_type": "execute_result",
					"execution_count": 17,
					"data": {
						"text/plain": "{'id': '64c7f9591111bf00935a6fe1',\n 'label': 'DR_AI_Accelerator_Retail_Clustering_part1_20230731',\n 'status': 'active',\n 'description': None,\n 'default_prediction_server': {'id': '5c77bc2100f096002619ceac',\n  'url': 'https://cfds.orm.eu.datarobot.com',\n  'datarobot-key': '35dde409-9091-697e-31f3-a9fd3b67842e'},\n 'model': {'id': '64c7e983a073e408e6c4f41a',\n  'type': 'K-Means Clustering',\n  'project_id': '64c7c878d4853a7cc2006861',\n  'target_type': 'Multiclass',\n  'project_name': 'DR_AI_Accelerator_Retail_Clustering_part1_20230731',\n  'unsupervised_mode': True,\n  'unstructured_model_kind': False,\n  'build_environment_type': 'DataRobot',\n  'deployed_at': '2023-07-31T18:11:37.492000Z',\n  'is_deprecated': False},\n '_capabilities': {'supports_model_replacement': False,\n  'supports_target_drift_tracking': False,\n  'supports_feature_drift_tracking': True,\n  'supports_prediction_warning': False,\n  'supports_prediction_intervals': False,\n  'supports_humility_rules': False,\n  'supports_humility_rules_default_calculations': True,\n  'supports_humility_recommended_rules': True,\n  'supports_challenger_models': False,\n  'supports_shap_based_prediction_explanations': False,\n  'supports_segmented_analysis_drift_and_accuracy': True,\n  'supports_bias_and_fairness': False,\n  'supports_feature_type_info_validation': True,\n  'supports_secondary_datasets': False,\n  'supports_retraining': False,\n  'supports_scoring_code_download': False,\n  'supports_automatic_actuals': False},\n 'prediction_usage': {'daily_rates': [0, 0, 0, 0, 0, 0, 0],\n  'last_timestamp': datetime.datetime(2023, 7, 31, 18, 13, 31, tzinfo=tzlocal())},\n 'permissions': ['CAN_MAKE_PREDICTIONS',\n  'CAN_VIEW',\n  'CAN_EDIT_DEPLOYMENT',\n  'CAN_DELETE_DEPLOYMENT',\n  'CAN_UPDATE_DEPLOYMENT_THRESHOLDS',\n  'CAN_SHARE',\n  'CAN_SHARE_DEPLOYMENT_OWNERSHIP',\n  'CAN_REPLACE_MODEL',\n  'CAN_APPROVE_REPLACEMENT_MODEL',\n  'CAN_SUBMIT_ACTUALS',\n  'CAN_ADD_CHALLENGERS',\n  'CAN_DELETE_CHALLENGERS',\n  'CAN_EDIT_CHALLENGERS',\n  'CAN_SCORE_CHALLENGERS',\n  'CAN_GENERATE_DOCUMENTATION',\n  'CAN_DOWNLOAD_DOCUMENTATION',\n  'CAN_BE_MANAGED_BY_MLOPS_AGENT'],\n 'service_health': {'status': 'warning',\n  'start_date': datetime.datetime(2023, 7, 30, 19, 0, tzinfo=tzlocal()),\n  'end_date': datetime.datetime(2023, 7, 31, 19, 0, tzinfo=tzlocal())},\n 'model_health': {'status': 'unavailable',\n  'message': 'Data drift tracking is disabled for this deployment.'},\n 'accuracy_health': {'status': 'unavailable',\n  'message': 'Accuracy tracking is disabled for this deployment.'},\n 'importance': 'LOW',\n 'fairness_health': {'status': 'unavailable',\n  'messages': [\"Bias & Fairness in MLOps can't be configured for this problem type.\"],\n  'protected_features_count': 0},\n 'governance': {'approval_status': 'APPROVED',\n  'has_opened_change_requests': False},\n 'owners': {'count': 1,\n  'preview': [{'id': '601744f7442fc68f3bb90d43',\n    'first_name': 'Olga',\n    'last_name': 'Shpyrko',\n    'email': 'olga.shpyrko@datarobot.com'}]},\n 'prediction_environment': {'id': '5c77bc2100f096002619ceac',\n  'name': 'https://cfds.orm.eu.datarobot.com',\n  'platform': 'datarobot',\n  'supported_model_formats': ['datarobot', 'customModel'],\n  'is_managed_by_management_agent': False}}"
					},
					"metadata": {}
				}
			],
			"execution_count": null
		},
		{
			"id": "64c8c20a40e1ec21f5aa06c2",
			"cell_type": "code",
			"source": "deployment.update_drift_tracking_settings(feature_drift_enabled = True, max_wait = 600)\ndeployment.get_drift_tracking_settings()",
			"metadata": {
				"name": "update drift settings of a newly created deployment",
				"collapsed": false,
				"scrolled": false,
				"datarobot": {
					"language": "python"
				},
				"hide_code": false,
				"hide_results": false,
				"disable_run": false,
				"chart_settings": null,
				"custom_metric_settings": null,
				"dataframe_view_options": null
			},
			"outputs": [
				{
					"output_type": "execute_result",
					"execution_count": 20,
					"data": {
						"text/plain": "{'target_drift': {'enabled': False}, 'feature_drift': {'enabled': True}}"
					},
					"metadata": {}
				}
			],
			"execution_count": null
		},
		{
			"id": "64c8c22340e1ec21f5aa06ca",
			"cell_type": "code",
			"source": "features_to_track = ['Customer_Age_Group', 'GEO_CAT']\ndeployment.update_segment_analysis_settings(segment_analysis_enabled = True, segment_analysis_attributes = features_to_track, max_wait = 600) \ndeployment.get_segment_analysis_settings()",
			"metadata": {
				"name": "update segmented analysis settings of the deployment",
				"collapsed": false,
				"scrolled": false,
				"datarobot": {
					"language": "python"
				},
				"hide_code": false,
				"hide_results": false,
				"disable_run": false,
				"chart_settings": null,
				"custom_metric_settings": null,
				"dataframe_view_options": null
			},
			"outputs": [
				{
					"output_type": "execute_result",
					"execution_count": 19,
					"data": {
						"text/plain": "{'enabled': True,\n 'attributes': ['Customer_Age_Group', 'GEO_CAT'],\n 'custom_attributes': []}"
					},
					"metadata": {}
				}
			],
			"execution_count": null
		},
		{
			"id": "64c76477c89525a9d453faef",
			"cell_type": "markdown",
			"source": "## Score new data and inspect cluster stability",
			"metadata": {
				"collapsed": false,
				"scrolled": false,
				"datarobot": {
					"language": "markdown"
				},
				"hide_code": false,
				"hide_results": false,
				"disable_run": false,
				"chart_settings": null,
				"custom_metric_settings": null,
				"dataframe_view_options": null
			}
		},
		{
			"id": "646748137a39c8eb33fabcf5",
			"cell_type": "code",
			"source": "scoring_df = pd.read_csv('https://s3.amazonaws.com/datarobot_public_datasets/ai_accelerators/Retail_Clustering_Scoring_data.csv')\nscoring_df.head()\n",
			"metadata": {
				"name": "get scoring data from AWS S3",
				"collapsed": false,
				"scrolled": false,
				"datarobot": {
					"language": "python"
				},
				"hide_code": false,
				"hide_results": false,
				"disable_run": false,
				"chart_settings": null,
				"custom_metric_settings": null,
				"dataframe_view_options": null
			},
			"outputs": [
				{
					"output_type": "execute_result",
					"execution_count": 5,
					"data": {
						"text/plain": "       ID  PREDICT_BATCH Customer_Start_Date ZipCode Residency_Category  \\\n0  624958              1          20.11.2018    8DDA       Cat2_500K_1M   \n1  351574              1          27.12.2019   2875A           Cat1_1M+   \n2  238135              1          30.10.2019   YY2AY       Cat4_50_100K   \n3   94479              1          29.12.2019   DYAAD       Cat4_50_100K   \n4  427142              1          05.08.2019   39AA6          Cat5_50K-   \n\n  Service_District Gender Customer_Age_Group     Brand_aware_Cat  \\\n0               NB      M                NaN              3-Know   \n1               DM      F                NaN              3-Know   \n2               1Z      M                NaN               1-New   \n3               AS      F           3: 45-55  4-Know (no prompt)   \n4               CT      F              01:35               1-New   \n\n   Brand_CompetitorAware_Flag  ...  GEO_CAT  LastResponse_Flag  Loyalty_YM  \\\n0                         1.0  ...     GEO2                1.0  01.11.2014   \n1                         0.0  ...     GEO1                0.0  01.12.2015   \n2                         0.0  ...    OTHER                0.0  01.10.2015   \n3                         0.0  ...     GEO4                1.0  01.09.2015   \n4                         1.0  ...    OTHER                1.0  01.08.2015   \n\n  LoyaltyBonus_Redeem_LastYear  LoyaltyPurch_Cnt  MostFreq_Purch_Cat  \\\n0                          NaN               NaN                   1   \n1                          NaN               NaN                   1   \n2                          1.0               NaN                   1   \n3                          NaN               1.0                   2   \n4                          NaN               NaN                   1   \n\n   NPS_Cat_Last  NPS_Score_Last  PromoCode_Cat  Sales_Channel_Cat  \n0           1.0             7.0        DISC_20      Distribution2  \n1           0.0             3.0        DISC_20  Distribution1 VIP  \n2           NaN             NaN        DISC_20      Distribution1  \n3           0.0             3.0              -               Web3  \n4           0.0             4.0        DISC_20  Distribution1 VIP  \n\n[5 rows x 34 columns]",
						"text/html": "<div>\n<style scoped>\n    .dataframe tbody tr th:only-of-type {\n        vertical-align: middle;\n    }\n\n    .dataframe tbody tr th {\n        vertical-align: top;\n    }\n\n    .dataframe thead th {\n        text-align: right;\n    }\n</style>\n<table border=\"1\" class=\"dataframe\">\n  <thead>\n    <tr style=\"text-align: right;\">\n      <th></th>\n      <th>ID</th>\n      <th>PREDICT_BATCH</th>\n      <th>Customer_Start_Date</th>\n      <th>ZipCode</th>\n      <th>Residency_Category</th>\n      <th>Service_District</th>\n      <th>Gender</th>\n      <th>Customer_Age_Group</th>\n      <th>Brand_aware_Cat</th>\n      <th>Brand_CompetitorAware_Flag</th>\n      <th>...</th>\n      <th>GEO_CAT</th>\n      <th>LastResponse_Flag</th>\n      <th>Loyalty_YM</th>\n      <th>LoyaltyBonus_Redeem_LastYear</th>\n      <th>LoyaltyPurch_Cnt</th>\n      <th>MostFreq_Purch_Cat</th>\n      <th>NPS_Cat_Last</th>\n      <th>NPS_Score_Last</th>\n      <th>PromoCode_Cat</th>\n      <th>Sales_Channel_Cat</th>\n    </tr>\n  </thead>\n  <tbody>\n    <tr>\n      <th>0</th>\n      <td>624958</td>\n      <td>1</td>\n      <td>20.11.2018</td>\n      <td>8DDA</td>\n      <td>Cat2_500K_1M</td>\n      <td>NB</td>\n      <td>M</td>\n      <td>NaN</td>\n      <td>3-Know</td>\n      <td>1.0</td>\n      <td>...</td>\n      <td>GEO2</td>\n      <td>1.0</td>\n      <td>01.11.2014</td>\n      <td>NaN</td>\n      <td>NaN</td>\n      <td>1</td>\n      <td>1.0</td>\n      <td>7.0</td>\n      <td>DISC_20</td>\n      <td>Distribution2</td>\n    </tr>\n    <tr>\n      <th>1</th>\n      <td>351574</td>\n      <td>1</td>\n      <td>27.12.2019</td>\n      <td>2875A</td>\n      <td>Cat1_1M+</td>\n      <td>DM</td>\n      <td>F</td>\n      <td>NaN</td>\n      <td>3-Know</td>\n      <td>0.0</td>\n      <td>...</td>\n      <td>GEO1</td>\n      <td>0.0</td>\n      <td>01.12.2015</td>\n      <td>NaN</td>\n      <td>NaN</td>\n      <td>1</td>\n      <td>0.0</td>\n      <td>3.0</td>\n      <td>DISC_20</td>\n      <td>Distribution1 VIP</td>\n    </tr>\n    <tr>\n      <th>2</th>\n      <td>238135</td>\n      <td>1</td>\n      <td>30.10.2019</td>\n      <td>YY2AY</td>\n      <td>Cat4_50_100K</td>\n      <td>1Z</td>\n      <td>M</td>\n      <td>NaN</td>\n      <td>1-New</td>\n      <td>0.0</td>\n      <td>...</td>\n      <td>OTHER</td>\n      <td>0.0</td>\n      <td>01.10.2015</td>\n      <td>1.0</td>\n      <td>NaN</td>\n      <td>1</td>\n      <td>NaN</td>\n      <td>NaN</td>\n      <td>DISC_20</td>\n      <td>Distribution1</td>\n    </tr>\n    <tr>\n      <th>3</th>\n      <td>94479</td>\n      <td>1</td>\n      <td>29.12.2019</td>\n      <td>DYAAD</td>\n      <td>Cat4_50_100K</td>\n      <td>AS</td>\n      <td>F</td>\n      <td>3: 45-55</td>\n      <td>4-Know (no prompt)</td>\n      <td>0.0</td>\n      <td>...</td>\n      <td>GEO4</td>\n      <td>1.0</td>\n      <td>01.09.2015</td>\n      <td>NaN</td>\n      <td>1.0</td>\n      <td>2</td>\n      <td>0.0</td>\n      <td>3.0</td>\n      <td>-</td>\n      <td>Web3</td>\n    </tr>\n    <tr>\n      <th>4</th>\n      <td>427142</td>\n      <td>1</td>\n      <td>05.08.2019</td>\n      <td>39AA6</td>\n      <td>Cat5_50K-</td>\n      <td>CT</td>\n      <td>F</td>\n      <td>01:35</td>\n      <td>1-New</td>\n      <td>1.0</td>\n      <td>...</td>\n      <td>OTHER</td>\n      <td>1.0</td>\n      <td>01.08.2015</td>\n      <td>NaN</td>\n      <td>NaN</td>\n      <td>1</td>\n      <td>0.0</td>\n      <td>4.0</td>\n      <td>DISC_20</td>\n      <td>Distribution1 VIP</td>\n    </tr>\n  </tbody>\n</table>\n<p>5 rows × 34 columns</p>\n</div>",
						"application/vnd.dataframe+json": {
							"data": [
								{
									"_dr_df_index": 0,
									"ID": 624958,
									"PREDICT_BATCH": 1,
									"Customer_Start_Date": "20.11.2018",
									"ZipCode": "8DDA",
									"Residency_Category": "Cat2_500K_1M",
									"Service_District": "NB",
									"Gender": "M",
									"Customer_Age_Group": null,
									"Brand_aware_Cat": "3-Know",
									"Brand_CompetitorAware_Flag": 1,
									"Camp_AvgClick_LastYear": null,
									"Camp_AvgResp_LastYear": 0.09,
									"Contact_First_Date": null,
									"Contact_Last_Date": null,
									"CustComm_Accept_Flag": 1,
									"CustComm_Count_LastYear": 11,
									"Customer_Tenure": 16.81967213,
									"CustReq_Count": null,
									"CustReq_Payment_Flag": 1,
									"CustReq_Prod_flag": 0,
									"CustReq_Prod_Support_Flag": 1,
									"CustReq_Product_Closed_Flag": 1,
									"CustReq_Resp_Flag": 1,
									"Date Last Purchase": null,
									"GEO_CAT": "GEO2",
									"LastResponse_Flag": 1,
									"Loyalty_YM": "01.11.2014",
									"LoyaltyBonus_Redeem_LastYear": null,
									"LoyaltyPurch_Cnt": null,
									"MostFreq_Purch_Cat": 1,
									"NPS_Cat_Last": 1,
									"NPS_Score_Last": 7,
									"PromoCode_Cat": "DISC_20",
									"Sales_Channel_Cat": "Distribution2"
								},
								{
									"_dr_df_index": 1,
									"ID": 351574,
									"PREDICT_BATCH": 1,
									"Customer_Start_Date": "27.12.2019",
									"ZipCode": "2875A",
									"Residency_Category": "Cat1_1M+",
									"Service_District": "DM",
									"Gender": "F",
									"Customer_Age_Group": null,
									"Brand_aware_Cat": "3-Know",
									"Brand_CompetitorAware_Flag": 0,
									"Camp_AvgClick_LastYear": 0.25,
									"Camp_AvgResp_LastYear": 0.29,
									"Contact_First_Date": null,
									"Contact_Last_Date": null,
									"CustComm_Accept_Flag": 1,
									"CustComm_Count_LastYear": 14,
									"Customer_Tenure": 3.639344262,
									"CustReq_Count": null,
									"CustReq_Payment_Flag": null,
									"CustReq_Prod_flag": 0,
									"CustReq_Prod_Support_Flag": 0,
									"CustReq_Product_Closed_Flag": 0,
									"CustReq_Resp_Flag": null,
									"Date Last Purchase": null,
									"GEO_CAT": "GEO1",
									"LastResponse_Flag": 0,
									"Loyalty_YM": "01.12.2015",
									"LoyaltyBonus_Redeem_LastYear": null,
									"LoyaltyPurch_Cnt": null,
									"MostFreq_Purch_Cat": 1,
									"NPS_Cat_Last": 0,
									"NPS_Score_Last": 3,
									"PromoCode_Cat": "DISC_20",
									"Sales_Channel_Cat": "Distribution1 VIP"
								},
								{
									"_dr_df_index": 2,
									"ID": 238135,
									"PREDICT_BATCH": 1,
									"Customer_Start_Date": "30.10.2019",
									"ZipCode": "YY2AY",
									"Residency_Category": "Cat4_50_100K",
									"Service_District": "1Z",
									"Gender": "M",
									"Customer_Age_Group": null,
									"Brand_aware_Cat": "1-New",
									"Brand_CompetitorAware_Flag": 0,
									"Camp_AvgClick_LastYear": null,
									"Camp_AvgResp_LastYear": null,
									"Contact_First_Date": null,
									"Contact_Last_Date": null,
									"CustComm_Accept_Flag": 1,
									"CustComm_Count_LastYear": 1,
									"Customer_Tenure": 5.540983607,
									"CustReq_Count": null,
									"CustReq_Payment_Flag": null,
									"CustReq_Prod_flag": 0,
									"CustReq_Prod_Support_Flag": 0,
									"CustReq_Product_Closed_Flag": 0,
									"CustReq_Resp_Flag": null,
									"Date Last Purchase": null,
									"GEO_CAT": "OTHER",
									"LastResponse_Flag": 0,
									"Loyalty_YM": "01.10.2015",
									"LoyaltyBonus_Redeem_LastYear": 1,
									"LoyaltyPurch_Cnt": null,
									"MostFreq_Purch_Cat": 1,
									"NPS_Cat_Last": null,
									"NPS_Score_Last": null,
									"PromoCode_Cat": "DISC_20",
									"Sales_Channel_Cat": "Distribution1"
								},
								{
									"_dr_df_index": 3,
									"ID": 94479,
									"PREDICT_BATCH": 1,
									"Customer_Start_Date": "29.12.2019",
									"ZipCode": "DYAAD",
									"Residency_Category": "Cat4_50_100K",
									"Service_District": "AS",
									"Gender": "F",
									"Customer_Age_Group": "3: 45-55",
									"Brand_aware_Cat": "4-Know (no prompt)",
									"Brand_CompetitorAware_Flag": 0,
									"Camp_AvgClick_LastYear": 0.2,
									"Camp_AvgResp_LastYear": 1,
									"Contact_First_Date": null,
									"Contact_Last_Date": null,
									"CustComm_Accept_Flag": 1,
									"CustComm_Count_LastYear": 5,
									"Customer_Tenure": 3.573770492,
									"CustReq_Count": null,
									"CustReq_Payment_Flag": null,
									"CustReq_Prod_flag": 1,
									"CustReq_Prod_Support_Flag": 0,
									"CustReq_Product_Closed_Flag": 1,
									"CustReq_Resp_Flag": null,
									"Date Last Purchase": "29.12.2019",
									"GEO_CAT": "GEO4",
									"LastResponse_Flag": 1,
									"Loyalty_YM": "01.09.2015",
									"LoyaltyBonus_Redeem_LastYear": null,
									"LoyaltyPurch_Cnt": 1,
									"MostFreq_Purch_Cat": 2,
									"NPS_Cat_Last": 0,
									"NPS_Score_Last": 3,
									"PromoCode_Cat": "-",
									"Sales_Channel_Cat": "Web3"
								},
								{
									"_dr_df_index": 4,
									"ID": 427142,
									"PREDICT_BATCH": 1,
									"Customer_Start_Date": "05.08.2019",
									"ZipCode": "39AA6",
									"Residency_Category": "Cat5_50K-",
									"Service_District": "CT",
									"Gender": "F",
									"Customer_Age_Group": "01:35",
									"Brand_aware_Cat": "1-New",
									"Brand_CompetitorAware_Flag": 1,
									"Camp_AvgClick_LastYear": null,
									"Camp_AvgResp_LastYear": null,
									"Contact_First_Date": null,
									"Contact_Last_Date": null,
									"CustComm_Accept_Flag": 1,
									"CustComm_Count_LastYear": 17,
									"Customer_Tenure": 8.360655738,
									"CustReq_Count": null,
									"CustReq_Payment_Flag": null,
									"CustReq_Prod_flag": 0,
									"CustReq_Prod_Support_Flag": 0,
									"CustReq_Product_Closed_Flag": 0,
									"CustReq_Resp_Flag": null,
									"Date Last Purchase": null,
									"GEO_CAT": "OTHER",
									"LastResponse_Flag": 1,
									"Loyalty_YM": "01.08.2015",
									"LoyaltyBonus_Redeem_LastYear": null,
									"LoyaltyPurch_Cnt": null,
									"MostFreq_Purch_Cat": 1,
									"NPS_Cat_Last": 0,
									"NPS_Score_Last": 4,
									"PromoCode_Cat": "DISC_20",
									"Sales_Channel_Cat": "Distribution1 VIP"
								}
							],
							"columns": [
								{
									"name": "_dr_df_index",
									"type": "integer"
								},
								{
									"name": "ID",
									"type": "integer"
								},
								{
									"name": "PREDICT_BATCH",
									"type": "integer"
								},
								{
									"name": "Customer_Start_Date",
									"type": "string"
								},
								{
									"name": "ZipCode",
									"type": "string"
								},
								{
									"name": "Residency_Category",
									"type": "string"
								},
								{
									"name": "Service_District",
									"type": "string"
								},
								{
									"name": "Gender",
									"type": "string"
								},
								{
									"name": "Customer_Age_Group",
									"type": "string"
								},
								{
									"name": "Brand_aware_Cat",
									"type": "string"
								},
								{
									"name": "Brand_CompetitorAware_Flag",
									"type": "number"
								},
								{
									"name": "Camp_AvgClick_LastYear",
									"type": "number"
								},
								{
									"name": "Camp_AvgResp_LastYear",
									"type": "number"
								},
								{
									"name": "Contact_First_Date",
									"type": "string"
								},
								{
									"name": "Contact_Last_Date",
									"type": "string"
								},
								{
									"name": "CustComm_Accept_Flag",
									"type": "number"
								},
								{
									"name": "CustComm_Count_LastYear",
									"type": "number"
								},
								{
									"name": "Customer_Tenure",
									"type": "number"
								},
								{
									"name": "CustReq_Count",
									"type": "number"
								},
								{
									"name": "CustReq_Payment_Flag",
									"type": "number"
								},
								{
									"name": "CustReq_Prod_flag",
									"type": "integer"
								},
								{
									"name": "CustReq_Prod_Support_Flag",
									"type": "integer"
								},
								{
									"name": "CustReq_Product_Closed_Flag",
									"type": "integer"
								},
								{
									"name": "CustReq_Resp_Flag",
									"type": "number"
								},
								{
									"name": "Date Last Purchase",
									"type": "string"
								},
								{
									"name": "GEO_CAT",
									"type": "string"
								},
								{
									"name": "LastResponse_Flag",
									"type": "number"
								},
								{
									"name": "Loyalty_YM",
									"type": "string"
								},
								{
									"name": "LoyaltyBonus_Redeem_LastYear",
									"type": "number"
								},
								{
									"name": "LoyaltyPurch_Cnt",
									"type": "number"
								},
								{
									"name": "MostFreq_Purch_Cat",
									"type": "integer"
								},
								{
									"name": "NPS_Cat_Last",
									"type": "number"
								},
								{
									"name": "NPS_Score_Last",
									"type": "number"
								},
								{
									"name": "PromoCode_Cat",
									"type": "string"
								},
								{
									"name": "Sales_Channel_Cat",
									"type": "string"
								}
							],
							"count": 5,
							"totalCount": 5,
							"offset": 0,
							"limit": 10,
							"referenceId": 140492851747136,
							"sortedBy": "",
							"indexKey": "_dr_df_index",
							"error": []
						}
					},
					"metadata": {}
				}
			],
			"execution_count": null
		},
		{
			"id": "64c7fa1e40e1ec21f5a9c632",
			"cell_type": "code",
			"source": "scoring_df.columns",
			"metadata": {
				"collapsed": false,
				"scrolled": false,
				"datarobot": {
					"language": "python"
				},
				"hide_code": false,
				"hide_results": false,
				"disable_run": false,
				"chart_settings": null,
				"custom_metric_settings": null,
				"dataframe_view_options": null
			},
			"outputs": [
				{
					"output_type": "execute_result",
					"execution_count": 132,
					"data": {
						"text/plain": "Index(['ID', 'PREDICT_BATCH', 'Customer_Start_Date', 'ZipCode',\n       'Residency_Category', 'Service_District', 'Gender',\n       'Customer_Age_Group', 'Brand_aware_Cat', 'Brand_CompetitorAware_Flag',\n       'Camp_AvgClick_LastYear', 'Camp_AvgResp_LastYear', 'Contact_First_Date',\n       'Contact_Last_Date', 'CustComm_Accept_Flag', 'CustComm_Count_LastYear',\n       'Customer_Tenure', 'CustReq_Count', 'CustReq_Payment_Flag',\n       'CustReq_Prod_flag', 'CustReq_Prod_Support_Flag',\n       'CustReq_Product_Closed_Flag', 'CustReq_Resp_Flag',\n       'Date Last Purchase', 'GEO_CAT', 'LastResponse_Flag', 'Loyalty_YM',\n       'LoyaltyBonus_Redeem_LastYear', 'LoyaltyPurch_Cnt',\n       'MostFreq_Purch_Cat', 'NPS_Cat_Last', 'NPS_Score_Last', 'PromoCode_Cat',\n       'Sales_Channel_Cat'],\n      dtype='object')"
					},
					"metadata": {}
				}
			],
			"execution_count": null
		},
		{
			"id": "64c7fa2b22251df62cbd72a8",
			"cell_type": "code",
			"source": "df.columns",
			"metadata": {
				"collapsed": false,
				"scrolled": false,
				"datarobot": {
					"language": "python"
				},
				"hide_code": false,
				"hide_results": false,
				"disable_run": false,
				"chart_settings": null,
				"custom_metric_settings": null,
				"dataframe_view_options": null
			},
			"outputs": [
				{
					"output_type": "execute_result",
					"execution_count": 133,
					"data": {
						"text/plain": "Index(['ID', 'churn', 'Customer_Start_Date', 'ZipCode', 'Residency_Category',\n       'Service_District', 'Gender', 'Customer_Age_Group', 'Brand_aware_Cat',\n       'Camp_AvgClick_LastYear', 'Camp_AvgResp_LastYear', 'Contact_First_Date',\n       'Contact_Last_Date', 'CustComm_Accept_Flag', 'CustComm_Count_LastYear',\n       'Customer_Tenure', 'CustReq_Count', 'CustReq_Payment_Flag',\n       'CustReq_Prod_flag', 'CustReq_Prod_Support_Flag',\n       'CustReq_Product_Closed_Flag', 'CustReq_Resp_Flag',\n       'Date Last Purchase', 'GEO_CAT', 'LastResponse_Flag', 'Loyalty_YM',\n       'LoyaltyBonus_Redeem_LastYear', 'LoyaltyPurch_Cnt',\n       'MostFreq_Purch_Cat', 'NPS_Cat_Last', 'NPS_Score_Avg', 'NPS_Score_Last',\n       'PromoCode_Cat', 'Sales_Channel_Cat'],\n      dtype='object')"
					},
					"metadata": {}
				}
			],
			"execution_count": null
		},
		{
			"id": "64c8c82022251df62cbdb586",
			"cell_type": "markdown",
			"source": "[TBD, August 01] Scoring dataset is missing 2 features that are present in training. This needs to be corrected before using this in the scoring workflow. Below is an example method to run predictions, using our training dataset again.",
			"metadata": {
				"collapsed": false,
				"scrolled": false,
				"datarobot": {
					"language": "markdown"
				},
				"hide_code": false,
				"hide_results": false,
				"disable_run": false,
				"chart_settings": null,
				"custom_metric_settings": null,
				"dataframe_view_options": null
			}
		},
		{
			"id": "64c7ad6a95bc2891104da079",
			"cell_type": "code",
			"source": "# new_predictions = deployment.predict_batch(scoring_df)\nnew_predictions = deployment.predict_batch(df)\n\n",
			"metadata": {
				"name": "run new period predictions from the model",
				"collapsed": false,
				"scrolled": false,
				"datarobot": {
					"language": "python"
				},
				"hide_code": false,
				"hide_results": false,
				"disable_run": false,
				"chart_settings": null,
				"custom_metric_settings": null,
				"dataframe_view_options": null
			},
			"outputs": [],
			"execution_count": null
		},
		{
			"id": "64c8d71b22251df62cbdba47",
			"cell_type": "code",
			"source": "new_predictions.head()",
			"metadata": {
				"collapsed": false,
				"scrolled": false,
				"datarobot": {
					"language": "python"
				},
				"hide_code": false,
				"hide_results": false,
				"disable_run": false,
				"chart_settings": null,
				"custom_metric_settings": null,
				"dataframe_view_options": null
			},
			"outputs": [
				{
					"output_type": "execute_result",
					"execution_count": 24,
					"data": {
						"text/plain": "       ID  churn Customer_Start_Date ZipCode Residency_Category  \\\n0  243624      1          05.09.2018    2DAA      Cat3_100_500K   \n1  242193      1          18.09.2018    2AA6      Cat3_100_500K   \n2  197222      1          26.09.2018    2AA8      Cat3_100_500K   \n3  900083      1          11.10.2018    263A      Cat3_100_500K   \n4   59631      0          05.10.2018    2AA6      Cat3_100_500K   \n\n  Service_District Gender Customer_Age_Group     Brand_aware_Cat  \\\n0               AC      M              01:35               1-New   \n1               AC      F           3: 45-55  4-Know (no prompt)   \n2               AC      M                NaN  4-Know (no prompt)   \n3               AC      M                NaN               1-New   \n4               AC      M              01:35  4-Know (no prompt)   \n\n   Camp_AvgClick_LastYear  ...  NPS_Cat_Last NPS_Score_Avg NPS_Score_Last  \\\n0                     NaN  ...           0.0         -1.00            1.0   \n1                     0.5  ...           NaN         -1.00            NaN   \n2                     NaN  ...           0.0         -1.00            1.0   \n3                     NaN  ...           NaN         -1.00            NaN   \n4                     NaN  ...           1.0          7.72            8.0   \n\n   PromoCode_Cat  Sales_Channel_Cat  Low NPS & High Churn Rate_PREDICTION  \\\n0       Extra_10      Distribution2                              0.449870   \n1       Extra_10      Distribution2                              0.356736   \n2       Extra_10      Distribution2                              0.621288   \n3       Extra_10      Distribution2                              0.694539   \n4       Extra_10      Distribution2                              0.113081   \n\n   High NPS & Low Campaign Response_PREDICTION  \\\n0                                     0.349225   \n1                                     0.257998   \n2                                     0.263381   \n3                                     0.192745   \n4                                     0.724056   \n\n   Med/High NPS & High Campaign Response_PREDICTION  \\\n0                                          0.200906   \n1                                          0.385266   \n2                                          0.115330   \n3                                          0.112715   \n4                                          0.162862   \n\n                              PREDICTION  DEPLOYMENT_APPROVAL_STATUS  \n0              Low NPS & High Churn Rate                    APPROVED  \n1  Med/High NPS & High Campaign Response                    APPROVED  \n2              Low NPS & High Churn Rate                    APPROVED  \n3              Low NPS & High Churn Rate                    APPROVED  \n4       High NPS & Low Campaign Response                    APPROVED  \n\n[5 rows x 39 columns]",
						"text/html": "<div>\n<style scoped>\n    .dataframe tbody tr th:only-of-type {\n        vertical-align: middle;\n    }\n\n    .dataframe tbody tr th {\n        vertical-align: top;\n    }\n\n    .dataframe thead th {\n        text-align: right;\n    }\n</style>\n<table border=\"1\" class=\"dataframe\">\n  <thead>\n    <tr style=\"text-align: right;\">\n      <th></th>\n      <th>ID</th>\n      <th>churn</th>\n      <th>Customer_Start_Date</th>\n      <th>ZipCode</th>\n      <th>Residency_Category</th>\n      <th>Service_District</th>\n      <th>Gender</th>\n      <th>Customer_Age_Group</th>\n      <th>Brand_aware_Cat</th>\n      <th>Camp_AvgClick_LastYear</th>\n      <th>...</th>\n      <th>NPS_Cat_Last</th>\n      <th>NPS_Score_Avg</th>\n      <th>NPS_Score_Last</th>\n      <th>PromoCode_Cat</th>\n      <th>Sales_Channel_Cat</th>\n      <th>Low NPS &amp; High Churn Rate_PREDICTION</th>\n      <th>High NPS &amp; Low Campaign Response_PREDICTION</th>\n      <th>Med/High NPS &amp; High Campaign Response_PREDICTION</th>\n      <th>PREDICTION</th>\n      <th>DEPLOYMENT_APPROVAL_STATUS</th>\n    </tr>\n  </thead>\n  <tbody>\n    <tr>\n      <th>0</th>\n      <td>243624</td>\n      <td>1</td>\n      <td>05.09.2018</td>\n      <td>2DAA</td>\n      <td>Cat3_100_500K</td>\n      <td>AC</td>\n      <td>M</td>\n      <td>01:35</td>\n      <td>1-New</td>\n      <td>NaN</td>\n      <td>...</td>\n      <td>0.0</td>\n      <td>-1.00</td>\n      <td>1.0</td>\n      <td>Extra_10</td>\n      <td>Distribution2</td>\n      <td>0.449870</td>\n      <td>0.349225</td>\n      <td>0.200906</td>\n      <td>Low NPS &amp; High Churn Rate</td>\n      <td>APPROVED</td>\n    </tr>\n    <tr>\n      <th>1</th>\n      <td>242193</td>\n      <td>1</td>\n      <td>18.09.2018</td>\n      <td>2AA6</td>\n      <td>Cat3_100_500K</td>\n      <td>AC</td>\n      <td>F</td>\n      <td>3: 45-55</td>\n      <td>4-Know (no prompt)</td>\n      <td>0.5</td>\n      <td>...</td>\n      <td>NaN</td>\n      <td>-1.00</td>\n      <td>NaN</td>\n      <td>Extra_10</td>\n      <td>Distribution2</td>\n      <td>0.356736</td>\n      <td>0.257998</td>\n      <td>0.385266</td>\n      <td>Med/High NPS &amp; High Campaign Response</td>\n      <td>APPROVED</td>\n    </tr>\n    <tr>\n      <th>2</th>\n      <td>197222</td>\n      <td>1</td>\n      <td>26.09.2018</td>\n      <td>2AA8</td>\n      <td>Cat3_100_500K</td>\n      <td>AC</td>\n      <td>M</td>\n      <td>NaN</td>\n      <td>4-Know (no prompt)</td>\n      <td>NaN</td>\n      <td>...</td>\n      <td>0.0</td>\n      <td>-1.00</td>\n      <td>1.0</td>\n      <td>Extra_10</td>\n      <td>Distribution2</td>\n      <td>0.621288</td>\n      <td>0.263381</td>\n      <td>0.115330</td>\n      <td>Low NPS &amp; High Churn Rate</td>\n      <td>APPROVED</td>\n    </tr>\n    <tr>\n      <th>3</th>\n      <td>900083</td>\n      <td>1</td>\n      <td>11.10.2018</td>\n      <td>263A</td>\n      <td>Cat3_100_500K</td>\n      <td>AC</td>\n      <td>M</td>\n      <td>NaN</td>\n      <td>1-New</td>\n      <td>NaN</td>\n      <td>...</td>\n      <td>NaN</td>\n      <td>-1.00</td>\n      <td>NaN</td>\n      <td>Extra_10</td>\n      <td>Distribution2</td>\n      <td>0.694539</td>\n      <td>0.192745</td>\n      <td>0.112715</td>\n      <td>Low NPS &amp; High Churn Rate</td>\n      <td>APPROVED</td>\n    </tr>\n    <tr>\n      <th>4</th>\n      <td>59631</td>\n      <td>0</td>\n      <td>05.10.2018</td>\n      <td>2AA6</td>\n      <td>Cat3_100_500K</td>\n      <td>AC</td>\n      <td>M</td>\n      <td>01:35</td>\n      <td>4-Know (no prompt)</td>\n      <td>NaN</td>\n      <td>...</td>\n      <td>1.0</td>\n      <td>7.72</td>\n      <td>8.0</td>\n      <td>Extra_10</td>\n      <td>Distribution2</td>\n      <td>0.113081</td>\n      <td>0.724056</td>\n      <td>0.162862</td>\n      <td>High NPS &amp; Low Campaign Response</td>\n      <td>APPROVED</td>\n    </tr>\n  </tbody>\n</table>\n<p>5 rows × 39 columns</p>\n</div>",
						"application/vnd.dataframe+json": {
							"data": [
								{
									"_dr_df_index": 0,
									"ID": 243624,
									"churn": 1,
									"Customer_Start_Date": "05.09.2018",
									"ZipCode": "2DAA",
									"Residency_Category": "Cat3_100_500K",
									"Service_District": "AC",
									"Gender": "M",
									"Customer_Age_Group": "01:35",
									"Brand_aware_Cat": "1-New",
									"Camp_AvgClick_LastYear": null,
									"Camp_AvgResp_LastYear": null,
									"Contact_First_Date": "22.02.2007",
									"Contact_Last_Date": "22.02.2017",
									"CustComm_Accept_Flag": 1,
									"CustComm_Count_LastYear": null,
									"Customer_Tenure": 19.31147541,
									"CustReq_Count": 4,
									"CustReq_Payment_Flag": null,
									"CustReq_Prod_flag": 0,
									"CustReq_Prod_Support_Flag": 0,
									"CustReq_Product_Closed_Flag": 1,
									"CustReq_Resp_Flag": null,
									"Date Last Purchase": "22.02.2019",
									"GEO_CAT": "OTHER",
									"LastResponse_Flag": null,
									"Loyalty_YM": "01.09.2014",
									"LoyaltyBonus_Redeem_LastYear": null,
									"LoyaltyPurch_Cnt": 3,
									"MostFreq_Purch_Cat": 1,
									"NPS_Cat_Last": 0,
									"NPS_Score_Avg": -1,
									"NPS_Score_Last": 1,
									"PromoCode_Cat": "Extra_10",
									"Sales_Channel_Cat": "Distribution2",
									"Low NPS & High Churn Rate_PREDICTION": 0.4498696625,
									"High NPS & Low Campaign Response_PREDICTION": 0.3492245972,
									"Med/High NPS & High Campaign Response_PREDICTION": 0.2009057403,
									"PREDICTION": "Low NPS & High Churn Rate",
									"DEPLOYMENT_APPROVAL_STATUS": "APPROVED"
								},
								{
									"_dr_df_index": 1,
									"ID": 242193,
									"churn": 1,
									"Customer_Start_Date": "18.09.2018",
									"ZipCode": "2AA6",
									"Residency_Category": "Cat3_100_500K",
									"Service_District": "AC",
									"Gender": "F",
									"Customer_Age_Group": "3: 45-55",
									"Brand_aware_Cat": "4-Know (no prompt)",
									"Camp_AvgClick_LastYear": 0.5,
									"Camp_AvgResp_LastYear": 0.2,
									"Contact_First_Date": "20.10.2006",
									"Contact_Last_Date": "11.07.2017",
									"CustComm_Accept_Flag": 1,
									"CustComm_Count_LastYear": 10,
									"Customer_Tenure": 18.8852459,
									"CustReq_Count": 6,
									"CustReq_Payment_Flag": null,
									"CustReq_Prod_flag": 0,
									"CustReq_Prod_Support_Flag": 0,
									"CustReq_Product_Closed_Flag": 1,
									"CustReq_Resp_Flag": null,
									"Date Last Purchase": "11.07.2019",
									"GEO_CAT": "OTHER",
									"LastResponse_Flag": 0,
									"Loyalty_YM": "01.09.2014",
									"LoyaltyBonus_Redeem_LastYear": 1,
									"LoyaltyPurch_Cnt": 2,
									"MostFreq_Purch_Cat": 1,
									"NPS_Cat_Last": null,
									"NPS_Score_Avg": -1,
									"NPS_Score_Last": null,
									"PromoCode_Cat": "Extra_10",
									"Sales_Channel_Cat": "Distribution2",
									"Low NPS & High Churn Rate_PREDICTION": 0.3567364216,
									"High NPS & Low Campaign Response_PREDICTION": 0.2579977214,
									"Med/High NPS & High Campaign Response_PREDICTION": 0.385265857,
									"PREDICTION": "Med/High NPS & High Campaign Response",
									"DEPLOYMENT_APPROVAL_STATUS": "APPROVED"
								},
								{
									"_dr_df_index": 2,
									"ID": 197222,
									"churn": 1,
									"Customer_Start_Date": "26.09.2018",
									"ZipCode": "2AA8",
									"Residency_Category": "Cat3_100_500K",
									"Service_District": "AC",
									"Gender": "M",
									"Customer_Age_Group": null,
									"Brand_aware_Cat": "4-Know (no prompt)",
									"Camp_AvgClick_LastYear": null,
									"Camp_AvgResp_LastYear": null,
									"Contact_First_Date": null,
									"Contact_Last_Date": null,
									"CustComm_Accept_Flag": 1,
									"CustComm_Count_LastYear": null,
									"Customer_Tenure": 18.62295082,
									"CustReq_Count": null,
									"CustReq_Payment_Flag": null,
									"CustReq_Prod_flag": 0,
									"CustReq_Prod_Support_Flag": 0,
									"CustReq_Product_Closed_Flag": 0,
									"CustReq_Resp_Flag": null,
									"Date Last Purchase": null,
									"GEO_CAT": "OTHER",
									"LastResponse_Flag": 1,
									"Loyalty_YM": "01.09.2014",
									"LoyaltyBonus_Redeem_LastYear": null,
									"LoyaltyPurch_Cnt": null,
									"MostFreq_Purch_Cat": 1,
									"NPS_Cat_Last": 0,
									"NPS_Score_Avg": -1,
									"NPS_Score_Last": 1,
									"PromoCode_Cat": "Extra_10",
									"Sales_Channel_Cat": "Distribution2",
									"Low NPS & High Churn Rate_PREDICTION": 0.6212882996,
									"High NPS & Low Campaign Response_PREDICTION": 0.2633813024,
									"Med/High NPS & High Campaign Response_PREDICTION": 0.1153304428,
									"PREDICTION": "Low NPS & High Churn Rate",
									"DEPLOYMENT_APPROVAL_STATUS": "APPROVED"
								},
								{
									"_dr_df_index": 3,
									"ID": 900083,
									"churn": 1,
									"Customer_Start_Date": "11.10.2018",
									"ZipCode": "263A",
									"Residency_Category": "Cat3_100_500K",
									"Service_District": "AC",
									"Gender": "M",
									"Customer_Age_Group": null,
									"Brand_aware_Cat": "1-New",
									"Camp_AvgClick_LastYear": null,
									"Camp_AvgResp_LastYear": null,
									"Contact_First_Date": null,
									"Contact_Last_Date": null,
									"CustComm_Accept_Flag": 1,
									"CustComm_Count_LastYear": null,
									"Customer_Tenure": 18.13114754,
									"CustReq_Count": null,
									"CustReq_Payment_Flag": null,
									"CustReq_Prod_flag": 0,
									"CustReq_Prod_Support_Flag": 0,
									"CustReq_Product_Closed_Flag": 0,
									"CustReq_Resp_Flag": null,
									"Date Last Purchase": null,
									"GEO_CAT": "OTHER",
									"LastResponse_Flag": 0,
									"Loyalty_YM": "01.10.2014",
									"LoyaltyBonus_Redeem_LastYear": null,
									"LoyaltyPurch_Cnt": null,
									"MostFreq_Purch_Cat": 1,
									"NPS_Cat_Last": null,
									"NPS_Score_Avg": -1,
									"NPS_Score_Last": null,
									"PromoCode_Cat": "Extra_10",
									"Sales_Channel_Cat": "Distribution2",
									"Low NPS & High Churn Rate_PREDICTION": 0.6945394278,
									"High NPS & Low Campaign Response_PREDICTION": 0.1927453578,
									"Med/High NPS & High Campaign Response_PREDICTION": 0.1127152517,
									"PREDICTION": "Low NPS & High Churn Rate",
									"DEPLOYMENT_APPROVAL_STATUS": "APPROVED"
								},
								{
									"_dr_df_index": 4,
									"ID": 59631,
									"churn": 0,
									"Customer_Start_Date": "05.10.2018",
									"ZipCode": "2AA6",
									"Residency_Category": "Cat3_100_500K",
									"Service_District": "AC",
									"Gender": "M",
									"Customer_Age_Group": "01:35",
									"Brand_aware_Cat": "4-Know (no prompt)",
									"Camp_AvgClick_LastYear": null,
									"Camp_AvgResp_LastYear": 0.09,
									"Contact_First_Date": null,
									"Contact_Last_Date": null,
									"CustComm_Accept_Flag": 1,
									"CustComm_Count_LastYear": 11,
									"Customer_Tenure": 18.32786885,
									"CustReq_Count": null,
									"CustReq_Payment_Flag": null,
									"CustReq_Prod_flag": 0,
									"CustReq_Prod_Support_Flag": 0,
									"CustReq_Product_Closed_Flag": 1,
									"CustReq_Resp_Flag": null,
									"Date Last Purchase": "18.10.2018",
									"GEO_CAT": "OTHER",
									"LastResponse_Flag": 1,
									"Loyalty_YM": "01.10.2014",
									"LoyaltyBonus_Redeem_LastYear": null,
									"LoyaltyPurch_Cnt": 1,
									"MostFreq_Purch_Cat": 1,
									"NPS_Cat_Last": 1,
									"NPS_Score_Avg": 7.72,
									"NPS_Score_Last": 8,
									"PromoCode_Cat": "Extra_10",
									"Sales_Channel_Cat": "Distribution2",
									"Low NPS & High Churn Rate_PREDICTION": 0.1130813509,
									"High NPS & Low Campaign Response_PREDICTION": 0.7240562439,
									"Med/High NPS & High Campaign Response_PREDICTION": 0.1628623605,
									"PREDICTION": "High NPS & Low Campaign Response",
									"DEPLOYMENT_APPROVAL_STATUS": "APPROVED"
								}
							],
							"columns": [
								{
									"name": "_dr_df_index",
									"type": "integer"
								},
								{
									"name": "ID",
									"type": "integer"
								},
								{
									"name": "churn",
									"type": "integer"
								},
								{
									"name": "Customer_Start_Date",
									"type": "string"
								},
								{
									"name": "ZipCode",
									"type": "string"
								},
								{
									"name": "Residency_Category",
									"type": "string"
								},
								{
									"name": "Service_District",
									"type": "string"
								},
								{
									"name": "Gender",
									"type": "string"
								},
								{
									"name": "Customer_Age_Group",
									"type": "string"
								},
								{
									"name": "Brand_aware_Cat",
									"type": "string"
								},
								{
									"name": "Camp_AvgClick_LastYear",
									"type": "number"
								},
								{
									"name": "Camp_AvgResp_LastYear",
									"type": "number"
								},
								{
									"name": "Contact_First_Date",
									"type": "string"
								},
								{
									"name": "Contact_Last_Date",
									"type": "string"
								},
								{
									"name": "CustComm_Accept_Flag",
									"type": "number"
								},
								{
									"name": "CustComm_Count_LastYear",
									"type": "number"
								},
								{
									"name": "Customer_Tenure",
									"type": "number"
								},
								{
									"name": "CustReq_Count",
									"type": "number"
								},
								{
									"name": "CustReq_Payment_Flag",
									"type": "number"
								},
								{
									"name": "CustReq_Prod_flag",
									"type": "integer"
								},
								{
									"name": "CustReq_Prod_Support_Flag",
									"type": "integer"
								},
								{
									"name": "CustReq_Product_Closed_Flag",
									"type": "integer"
								},
								{
									"name": "CustReq_Resp_Flag",
									"type": "number"
								},
								{
									"name": "Date Last Purchase",
									"type": "string"
								},
								{
									"name": "GEO_CAT",
									"type": "string"
								},
								{
									"name": "LastResponse_Flag",
									"type": "number"
								},
								{
									"name": "Loyalty_YM",
									"type": "string"
								},
								{
									"name": "LoyaltyBonus_Redeem_LastYear",
									"type": "number"
								},
								{
									"name": "LoyaltyPurch_Cnt",
									"type": "number"
								},
								{
									"name": "MostFreq_Purch_Cat",
									"type": "integer"
								},
								{
									"name": "NPS_Cat_Last",
									"type": "number"
								},
								{
									"name": "NPS_Score_Avg",
									"type": "number"
								},
								{
									"name": "NPS_Score_Last",
									"type": "number"
								},
								{
									"name": "PromoCode_Cat",
									"type": "string"
								},
								{
									"name": "Sales_Channel_Cat",
									"type": "string"
								},
								{
									"name": "Low NPS & High Churn Rate_PREDICTION",
									"type": "number"
								},
								{
									"name": "High NPS & Low Campaign Response_PREDICTION",
									"type": "number"
								},
								{
									"name": "Med/High NPS & High Campaign Response_PREDICTION",
									"type": "number"
								},
								{
									"name": "PREDICTION",
									"type": "string"
								},
								{
									"name": "DEPLOYMENT_APPROVAL_STATUS",
									"type": "string"
								}
							],
							"count": 5,
							"totalCount": 5,
							"offset": 0,
							"limit": 10,
							"referenceId": 139741047413872,
							"sortedBy": "",
							"indexKey": "_dr_df_index",
							"error": []
						}
					},
					"metadata": {}
				}
			],
			"execution_count": null
		},
		{
			"id": "64c7f9ae40e1ec21f5a9c60e",
			"cell_type": "code",
			"source": "deployment.get_uri()",
			"metadata": {
				"name": "check monitoring statistics in DataRobot",
				"collapsed": false,
				"scrolled": false,
				"datarobot": {
					"language": "python"
				},
				"hide_code": false,
				"hide_results": false,
				"disable_run": false,
				"chart_settings": null,
				"custom_metric_settings": null,
				"dataframe_view_options": null
			},
			"outputs": [
				{
					"output_type": "execute_result",
					"execution_count": 23,
					"data": {
						"text/plain": "'https://app.eu.datarobot.com/deployments/64c7f9591111bf00935a6fe1/overview'"
					},
					"metadata": {}
				}
			],
			"execution_count": null
		},
		{
			"id": "64c8d76640e1ec21f5aa0dac",
			"cell_type": "markdown",
			"source": "Lastly, for each individual prediction period you can use DataRobot drift monitoring to understand difference in customer profiles that may result in customers migrating from one segment to another.",
			"metadata": {
				"collapsed": false,
				"scrolled": false,
				"datarobot": {
					"language": "markdown"
				},
				"hide_code": false,
				"hide_results": false,
				"disable_run": false,
				"chart_settings": null,
				"custom_metric_settings": null,
				"dataframe_view_options": null
			}
		},
		{
			"id": "64c8d75922251df62cbdba5a",
			"cell_type": "code",
			"source": "",
			"metadata": {
				"collapsed": false,
				"scrolled": false,
				"datarobot": {
					"language": "python"
				},
				"hide_code": false,
				"hide_results": false,
				"disable_run": false,
				"chart_settings": null,
				"custom_metric_settings": null,
				"dataframe_view_options": null
			},
			"outputs": [],
			"execution_count": null
		}
	],
	"metadata": {
		"kernelspec": {
			"name": "python",
			"language": "python",
			"display_name": "Python 3.9.16"
		},
		"language_info": {
			"name": "python",
			"version": ""
		}
	},
	"nbformat": 4,
	"nbformat_minor": 5
}